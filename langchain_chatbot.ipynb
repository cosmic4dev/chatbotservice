{
  "cells": [
    {
      "cell_type": "code",
      "execution_count": null,
      "metadata": {
        "colab": {
          "base_uri": "https://localhost:8080/"
        },
        "id": "EjEMAYzR3hRX",
        "outputId": "543ebd42-c3f6-48fc-efb0-ead71a10c531"
      },
      "outputs": [
        {
          "name": "stdout",
          "output_type": "stream",
          "text": [
            "\u001b[2K     \u001b[90m━━━━━━━━━━━━━━━━━━━━━━━━━━━━━━━━━━━━━━━━\u001b[0m \u001b[32m803.3/803.3 kB\u001b[0m \u001b[31m6.4 MB/s\u001b[0m eta \u001b[36m0:00:00\u001b[0m\n",
            "\u001b[2K     \u001b[90m━━━━━━━━━━━━━━━━━━━━━━━━━━━━━━━━━━━━━━━━\u001b[0m \u001b[32m77.0/77.0 kB\u001b[0m \u001b[31m6.4 MB/s\u001b[0m eta \u001b[36m0:00:00\u001b[0m\n",
            "\u001b[2K     \u001b[90m━━━━━━━━━━━━━━━━━━━━━━━━━━━━━━━━━━━━━━━━\u001b[0m \u001b[32m2.0/2.0 MB\u001b[0m \u001b[31m13.6 MB/s\u001b[0m eta \u001b[36m0:00:00\u001b[0m\n",
            "\u001b[2K     \u001b[90m━━━━━━━━━━━━━━━━━━━━━━━━━━━━━━━━━━━━━━━━\u001b[0m \u001b[32m509.0/509.0 kB\u001b[0m \u001b[31m14.4 MB/s\u001b[0m eta \u001b[36m0:00:00\u001b[0m\n",
            "\u001b[2K     \u001b[90m━━━━━━━━━━━━━━━━━━━━━━━━━━━━━━━━━━━━━━━━\u001b[0m \u001b[32m1.5/1.5 MB\u001b[0m \u001b[31m17.9 MB/s\u001b[0m eta \u001b[36m0:00:00\u001b[0m\n",
            "\u001b[2K     \u001b[90m━━━━━━━━━━━━━━━━━━━━━━━━━━━━━━━━━━━━━━━━\u001b[0m \u001b[32m208.0/208.0 kB\u001b[0m \u001b[31m14.5 MB/s\u001b[0m eta \u001b[36m0:00:00\u001b[0m\n",
            "\u001b[2K     \u001b[90m━━━━━━━━━━━━━━━━━━━━━━━━━━━━━━━━━━━━━━━━\u001b[0m \u001b[32m48.2/48.2 kB\u001b[0m \u001b[31m3.0 MB/s\u001b[0m eta \u001b[36m0:00:00\u001b[0m\n",
            "\u001b[2K     \u001b[90m━━━━━━━━━━━━━━━━━━━━━━━━━━━━━━━━━━━━━━━━\u001b[0m \u001b[32m2.4/2.4 MB\u001b[0m \u001b[31m19.5 MB/s\u001b[0m eta \u001b[36m0:00:00\u001b[0m\n",
            "\u001b[2K     \u001b[90m━━━━━━━━━━━━━━━━━━━━━━━━━━━━━━━━━━━━━━━━\u001b[0m \u001b[32m92.0/92.0 kB\u001b[0m \u001b[31m4.4 MB/s\u001b[0m eta \u001b[36m0:00:00\u001b[0m\n",
            "\u001b[2K     \u001b[90m━━━━━━━━━━━━━━━━━━━━━━━━━━━━━━━━━━━━━━━━\u001b[0m \u001b[32m60.3/60.3 kB\u001b[0m \u001b[31m4.5 MB/s\u001b[0m eta \u001b[36m0:00:00\u001b[0m\n",
            "\u001b[2K     \u001b[90m━━━━━━━━━━━━━━━━━━━━━━━━━━━━━━━━━━━━━━━━\u001b[0m \u001b[32m5.4/5.4 MB\u001b[0m \u001b[31m30.0 MB/s\u001b[0m eta \u001b[36m0:00:00\u001b[0m\n",
            "\u001b[2K     \u001b[90m━━━━━━━━━━━━━━━━━━━━━━━━━━━━━━━━━━━━━━━━\u001b[0m \u001b[32m6.4/6.4 MB\u001b[0m \u001b[31m40.5 MB/s\u001b[0m eta \u001b[36m0:00:00\u001b[0m\n",
            "\u001b[2K     \u001b[90m━━━━━━━━━━━━━━━━━━━━━━━━━━━━━━━━━━━━━━━━\u001b[0m \u001b[32m57.9/57.9 kB\u001b[0m \u001b[31m3.9 MB/s\u001b[0m eta \u001b[36m0:00:00\u001b[0m\n",
            "\u001b[2K     \u001b[90m━━━━━━━━━━━━━━━━━━━━━━━━━━━━━━━━━━━━━━━━\u001b[0m \u001b[32m105.6/105.6 kB\u001b[0m \u001b[31m7.2 MB/s\u001b[0m eta \u001b[36m0:00:00\u001b[0m\n",
            "\u001b[2K     \u001b[90m━━━━━━━━━━━━━━━━━━━━━━━━━━━━━━━━━━━━━━━━\u001b[0m \u001b[32m67.3/67.3 kB\u001b[0m \u001b[31m5.2 MB/s\u001b[0m eta \u001b[36m0:00:00\u001b[0m\n",
            "\u001b[?25h  Installing build dependencies ... \u001b[?25l\u001b[?25hdone\n",
            "  Getting requirements to build wheel ... \u001b[?25l\u001b[?25hdone\n",
            "  Preparing metadata (pyproject.toml) ... \u001b[?25l\u001b[?25hdone\n",
            "\u001b[2K     \u001b[90m━━━━━━━━━━━━━━━━━━━━━━━━━━━━━━━━━━━━━━━━\u001b[0m \u001b[32m698.9/698.9 kB\u001b[0m \u001b[31m42.5 MB/s\u001b[0m eta \u001b[36m0:00:00\u001b[0m\n",
            "\u001b[2K     \u001b[90m━━━━━━━━━━━━━━━━━━━━━━━━━━━━━━━━━━━━━━━━\u001b[0m \u001b[32m1.6/1.6 MB\u001b[0m \u001b[31m38.5 MB/s\u001b[0m eta \u001b[36m0:00:00\u001b[0m\n",
            "\u001b[2K     \u001b[90m━━━━━━━━━━━━━━━━━━━━━━━━━━━━━━━━━━━━━━━━\u001b[0m \u001b[32m72.6/72.6 kB\u001b[0m \u001b[31m8.3 MB/s\u001b[0m eta \u001b[36m0:00:00\u001b[0m\n",
            "\u001b[2K     \u001b[90m━━━━━━━━━━━━━━━━━━━━━━━━━━━━━━━━━━━━━━━━\u001b[0m \u001b[32m49.4/49.4 kB\u001b[0m \u001b[31m4.6 MB/s\u001b[0m eta \u001b[36m0:00:00\u001b[0m\n",
            "\u001b[2K     \u001b[90m━━━━━━━━━━━━━━━━━━━━━━━━━━━━━━━━━━━━━━━━\u001b[0m \u001b[32m70.0/70.0 kB\u001b[0m \u001b[31m5.9 MB/s\u001b[0m eta \u001b[36m0:00:00\u001b[0m\n",
            "\u001b[2K     \u001b[90m━━━━━━━━━━━━━━━━━━━━━━━━━━━━━━━━━━━━━━━━\u001b[0m \u001b[32m143.8/143.8 kB\u001b[0m \u001b[31m13.4 MB/s\u001b[0m eta \u001b[36m0:00:00\u001b[0m\n",
            "\u001b[2K     \u001b[90m━━━━━━━━━━━━━━━━━━━━━━━━━━━━━━━━━━━━━━━━\u001b[0m \u001b[32m46.0/46.0 kB\u001b[0m \u001b[31m4.7 MB/s\u001b[0m eta \u001b[36m0:00:00\u001b[0m\n",
            "\u001b[2K     \u001b[90m━━━━━━━━━━━━━━━━━━━━━━━━━━━━━━━━━━━━━━━━\u001b[0m \u001b[32m50.8/50.8 kB\u001b[0m \u001b[31m5.3 MB/s\u001b[0m eta \u001b[36m0:00:00\u001b[0m\n",
            "\u001b[2K     \u001b[90m━━━━━━━━━━━━━━━━━━━━━━━━━━━━━━━━━━━━━━━━\u001b[0m \u001b[32m58.3/58.3 kB\u001b[0m \u001b[31m7.0 MB/s\u001b[0m eta \u001b[36m0:00:00\u001b[0m\n",
            "\u001b[2K     \u001b[90m━━━━━━━━━━━━━━━━━━━━━━━━━━━━━━━━━━━━━━━━\u001b[0m \u001b[32m341.4/341.4 kB\u001b[0m \u001b[31m33.8 MB/s\u001b[0m eta \u001b[36m0:00:00\u001b[0m\n",
            "\u001b[2K     \u001b[90m━━━━━━━━━━━━━━━━━━━━━━━━━━━━━━━━━━━━━━━━\u001b[0m \u001b[32m3.4/3.4 MB\u001b[0m \u001b[31m55.4 MB/s\u001b[0m eta \u001b[36m0:00:00\u001b[0m\n",
            "\u001b[2K     \u001b[90m━━━━━━━━━━━━━━━━━━━━━━━━━━━━━━━━━━━━━━━━\u001b[0m \u001b[32m1.3/1.3 MB\u001b[0m \u001b[31m50.5 MB/s\u001b[0m eta \u001b[36m0:00:00\u001b[0m\n",
            "\u001b[2K     \u001b[90m━━━━━━━━━━━━━━━━━━━━━━━━━━━━━━━━━━━━━━━━\u001b[0m \u001b[32m130.2/130.2 kB\u001b[0m \u001b[31m15.2 MB/s\u001b[0m eta \u001b[36m0:00:00\u001b[0m\n",
            "\u001b[2K     \u001b[90m━━━━━━━━━━━━━━━━━━━━━━━━━━━━━━━━━━━━━━━━\u001b[0m \u001b[32m86.8/86.8 kB\u001b[0m \u001b[31m10.4 MB/s\u001b[0m eta \u001b[36m0:00:00\u001b[0m\n",
            "\u001b[?25h  Building wheel for pypika (pyproject.toml) ... \u001b[?25l\u001b[?25hdone\n",
            "\u001b[31mERROR: pip's dependency resolver does not currently take into account all the packages that are installed. This behaviour is the source of the following dependency conflicts.\n",
            "lida 0.0.10 requires kaleido, which is not installed.\n",
            "lida 0.0.10 requires python-multipart, which is not installed.\n",
            "llmx 0.0.15a0 requires cohere, which is not installed.\n",
            "tensorflow-probability 0.22.0 requires typing-extensions<4.6.0, but you have typing-extensions 4.9.0 which is incompatible.\u001b[0m\u001b[31m\n",
            "\u001b[0m"
          ]
        }
      ],
      "source": [
        "!pip install -q langchain openai==0.28.1 tiktoken chromadb"
      ]
    },
    {
      "cell_type": "code",
      "execution_count": null,
      "metadata": {
        "colab": {
          "base_uri": "https://localhost:8080/"
        },
        "id": "G8-_OzVE33sc",
        "outputId": "34c51995-1022-4449-a2ab-d822781049d9"
      },
      "outputs": [
        {
          "name": "stdout",
          "output_type": "stream",
          "text": [
            "--2024-01-05 04:30:44--  https://github.com/chatgpt-kr/chatgpt-api-tutorial/raw/main/ch05/data.zip\n",
            "Resolving github.com (github.com)... 20.27.177.113\n",
            "Connecting to github.com (github.com)|20.27.177.113|:443... connected.\n",
            "HTTP request sent, awaiting response... 302 Found\n",
            "Location: https://raw.githubusercontent.com/chatgpt-kr/chatgpt-api-tutorial/main/ch05/data.zip [following]\n",
            "--2024-01-05 04:30:44--  https://raw.githubusercontent.com/chatgpt-kr/chatgpt-api-tutorial/main/ch05/data.zip\n",
            "Resolving raw.githubusercontent.com (raw.githubusercontent.com)... 185.199.111.133, 185.199.110.133, 185.199.109.133, ...\n",
            "Connecting to raw.githubusercontent.com (raw.githubusercontent.com)|185.199.111.133|:443... connected.\n",
            "HTTP request sent, awaiting response... 200 OK\n",
            "Length: 835816 (816K) [application/zip]\n",
            "Saving to: ‘data.zip’\n",
            "\n",
            "data.zip            100%[===================>] 816.23K  5.13MB/s    in 0.2s    \n",
            "\n",
            "2024-01-05 04:30:46 (5.13 MB/s) - ‘data.zip’ saved [835816/835816]\n",
            "\n"
          ]
        }
      ],
      "source": [
        "!wget https://github.com/chatgpt-kr/chatgpt-api-tutorial/raw/main/ch05/data.zip"
      ]
    },
    {
      "cell_type": "code",
      "execution_count": null,
      "metadata": {
        "colab": {
          "base_uri": "https://localhost:8080/"
        },
        "id": "YCwIH7iK3-13",
        "outputId": "2835b99e-35c8-45da-86ae-704af39e3426"
      },
      "outputs": [
        {
          "name": "stdout",
          "output_type": "stream",
          "text": [
            "Archive:  data.zip\n",
            "  inflating: 1.txt                   \n",
            "  inflating: 10.txt                  \n",
            "  inflating: 11.txt                  \n",
            "  inflating: 12.txt                  \n",
            "  inflating: 13.txt                  \n",
            "  inflating: 14.txt                  \n",
            "  inflating: 15.txt                  \n",
            "  inflating: 16.txt                  \n",
            "  inflating: 17.txt                  \n",
            "  inflating: 18.txt                  \n",
            "  inflating: 19.txt                  \n",
            "  inflating: 2.txt                   \n",
            "  inflating: 20.txt                  \n",
            "  inflating: 21.txt                  \n",
            "  inflating: 22.txt                  \n",
            "  inflating: 23.txt                  \n",
            "  inflating: 24.txt                  \n",
            "  inflating: 25.txt                  \n",
            "  inflating: 26.txt                  \n",
            "  inflating: 27.txt                  \n",
            "  inflating: 28.txt                  \n",
            "  inflating: 29.txt                  \n",
            "  inflating: 3.txt                   \n",
            "  inflating: 30.txt                  \n",
            "  inflating: 31.txt                  \n",
            "  inflating: 32.txt                  \n",
            "  inflating: 33.txt                  \n",
            "  inflating: 34.txt                  \n",
            "  inflating: 35.txt                  \n",
            "  inflating: 36.txt                  \n",
            "  inflating: 37.txt                  \n",
            "  inflating: 38.txt                  \n",
            "  inflating: 39.txt                  \n",
            "  inflating: 4.txt                   \n",
            "  inflating: 40.txt                  \n",
            "  inflating: 41.txt                  \n",
            "  inflating: 42.txt                  \n",
            "  inflating: 43.txt                  \n",
            "  inflating: 44.txt                  \n",
            "  inflating: 45.txt                  \n",
            "  inflating: 46.txt                  \n",
            "  inflating: 47.txt                  \n",
            "  inflating: 48.txt                  \n",
            "  inflating: 49.txt                  \n",
            "  inflating: 5.txt                   \n",
            "  inflating: 50.txt                  \n",
            "  inflating: 51.txt                  \n",
            "  inflating: 52.txt                  \n",
            "  inflating: 53.txt                  \n",
            "  inflating: 54.txt                  \n",
            "  inflating: 55.txt                  \n",
            "  inflating: 56.txt                  \n",
            "  inflating: 57.txt                  \n",
            "  inflating: 6.txt                   \n",
            "  inflating: 7.txt                   \n",
            "  inflating: 8.txt                   \n",
            "  inflating: 9.txt                   \n",
            "  inflating: embedding.csv           \n"
          ]
        }
      ],
      "source": [
        "!unzip data"
      ]
    },
    {
      "cell_type": "markdown",
      "metadata": {
        "id": "_BEnX3pi4by1"
      },
      "source": [
        "# Langchain setting![스크린샷 2024-01-04 오전 9.54.29.png](data:image/png;base64,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)"
      ]
    },
    {
      "cell_type": "code",
      "execution_count": null,
      "metadata": {
        "id": "8duxdV5g4A40"
      },
      "outputs": [],
      "source": [
        "\n",
        "import os\n",
        "\n",
        "os.environ[\"OPENAI_API_KEY\"] = \"\"\n"
      ]
    },
    {
      "cell_type": "code",
      "execution_count": null,
      "metadata": {
        "id": "ZGIQ-OJi4zI1"
      },
      "outputs": [],
      "source": [
        "from langchain.vectorstores import Chroma\n",
        "from langchain.embeddings import OpenAIEmbeddings\n",
        "from langchain.text_splitter import RecursiveCharacterTextSplitter\n",
        "from langchain.chat_models import ChatOpenAI\n",
        "from langchain.chains import RetrievalQA\n",
        "from langchain.document_loaders import TextLoader\n",
        "from langchain.document_loaders import DirectoryLoader\n",
        "from collections import Counter"
      ]
    },
    {
      "cell_type": "code",
      "execution_count": null,
      "metadata": {
        "colab": {
          "base_uri": "https://localhost:8080/"
        },
        "id": "fhE6ulBR4znN",
        "outputId": "4a9c1361-c4dd-4a61-aa98-bddc7f509825"
      },
      "outputs": [
        {
          "name": "stdout",
          "output_type": "stream",
          "text": [
            "문서의 개수 : 57\n"
          ]
        }
      ],
      "source": [
        "# documents loader (*디렉토리로더는 파일을 순서대로 로드하지는 않는다.)\n",
        "loader = DirectoryLoader('.', glob=\"*.txt\", loader_cls = TextLoader)\n",
        "documents = loader.load()\n",
        "print('문서의 개수 :', len(documents))"
      ]
    },
    {
      "cell_type": "code",
      "execution_count": null,
      "metadata": {
        "colab": {
          "base_uri": "https://localhost:8080/"
        },
        "id": "RonyQw8Q5b-d",
        "outputId": "e69f4ae0-87db-4c36-a45b-84708316f16f"
      },
      "outputs": [
        {
          "name": "stdout",
          "output_type": "stream",
          "text": [
            "1번 문서 : page_content='정책제목: 캠퍼스타운 혁신을 통해 청년희망, 지역경제 활성화\\n서울시는 창업을 확산하고 청년 창업을 활성화하기 위해 서울 전역의 28개 캠퍼스타운에서 지원 시스템을 강화하는 정책을 추진하고 있습니다. 이 정책은 2023년 1월 1일부터 2023년 12월 31일까지 사업운영이 이루어지며, 사업 신청은 동일한 기간 동안 가능합니다. 창업팀 상시 육성을 목표로 하며, 종합형 16개와 단위형 12개의 지원규모를 가지고 있습니다. 신청자격은 19세부터 39세까지이며, 대학과 자치구의 공동 제안 사업에 참여할 수 있습니다. 학력, 전공 요건, 취업 상태, 특화 분야 요건은 제한이 없으며, 참여 제한 대상은 개별 공고를 참조해야 합니다. 신청 방법은 각 캠퍼스타운의 개별 공고를 확인하시기 바랍니다. 운영기관은 서울시청 캠퍼스타운 활성화과입니다. 자세한 내용은 https://campustown.seoul.go.kr/site/main/university/list에서 확인하실 수 있습니다.' metadata={'source': '45.txt'}\n",
            "--------------------\n",
            "17번 문서 : page_content='정책 제목: 서울형 뉴딜 일자리\\n정책 유형은 \"일자리\"이며, 이 정책은 서울시청 일자리정책과에서 주관하고 있습니다. 해당 정책은 미취업자들을 대상으로 전문적인 일 경험 제공과 직무교육, 취/창업 지원을 통해 안정적인 민간일자리로의 연계를 도모하는 것을 목표로 합니다. 지원 내용으로는 월 최대 임금 236만원의 지급과 최대 23개월간의 안정적인 근무 가능성(풀타임 또는 파트타임 선택 가능), 취업 교육 및 자격증 응시비용 지원 등이 포함됩니다. 신청자격은 18세부터 100세까지이며, 학력이나 전공 요건에는 제한이 없습니다. 해당 정책은 미취업자를 대상으로 하며, 참여 제한 대상 및 신청 방법은 개별 공고를 확인하시면 됩니다. 사업 운영기간은 2023년 1월 1일부터 2023년 12월 31일까지이며, 신청은 서울일자리 포털 및 서울시 홈페이지를 참고하시면 됩니다. 운영기관은 시, 구, 투출기관 및 민간 협회입니다. 추가적인 정보는 https://youth.seoul.go.kr/site/main/content/youth_newdeal_job_intro와 https://www.seoul.go.kr/main/index.jsp에서 확인하실 수 있습니다.' metadata={'source': '50.txt'}\n",
            "--------------------\n"
          ]
        }
      ],
      "source": [
        "\n",
        "print('1번 문서 :', documents[1])\n",
        "print('-' * 20)\n",
        "print('17번 문서 :', documents[17])\n",
        "print('-' * 20)"
      ]
    },
    {
      "cell_type": "code",
      "execution_count": null,
      "metadata": {
        "colab": {
          "base_uri": "https://localhost:8080/"
        },
        "id": "sGXsxOdb5hOm",
        "outputId": "ba4504e2-794e-44c7-c081-7f19562cfa85"
      },
      "outputs": [
        {
          "name": "stdout",
          "output_type": "stream",
          "text": [
            "분할된 텍스트의 개수 :  64\n"
          ]
        }
      ],
      "source": [
        "#Split texts\n",
        "text_splitter = RecursiveCharacterTextSplitter(chunk_size=1000, chunk_overlap=200)\n",
        "texts = text_splitter.split_documents(documents)\n",
        "\n",
        "print('분할된 텍스트의 개수 : ', len(texts))"
      ]
    },
    {
      "cell_type": "code",
      "execution_count": null,
      "metadata": {
        "colab": {
          "base_uri": "https://localhost:8080/"
        },
        "id": "0m43kqZw6RVQ",
        "outputId": "405ccb97-a2af-4e96-987a-2d0619e505c9"
      },
      "outputs": [
        {
          "name": "stdout",
          "output_type": "stream",
          "text": [
            "page_content='정책 이름: 청년참여 활성화 및 청년참여기구 운영 지원\\n서울시청 미래청년기획단에서는 사회참여를 촉진하기 위해 청년의 시정 참여 및 청년 시각을 반영한 미래사회 대응을 위한 다양한 정책을 발굴하는 정책을 추진합니다. 이를 위해 청년참여기구의 운영을 지원하고 청년의 정책 제안과 청년 자율 예산 편성 역량을 강화합니다. 이 프로그램은 서울청년참여기구의 구성과 운영을 지원하며, 분과별 소주제 모임 공간을 제공하고 캠페인을 진행합니다. 또한, 분과 회의 및 실국 간담회를 운영하고 서울청년참여기구 총회를 개최합니다. 신청자격은 서울에서 거주하고 활동하는 19세에서 39세의 청년이면 누구나 신청할 수 있습니다. 학력, 전공, 취업 상태, 특화 분야에 대한 제한은 없습니다. 신청 방법과 신청 절차는 서울청년포털 홈페이지를 참조하시면 됩니다. 이 프로그램은 https://youth.seoul.go.kr/site/youthnet/content/NET020-01에서 자세한 정보를 확인할 수 있습니다. 운영기관은 서울시청 미래청년기획단입니다. 추가로 참고할 사이트로는 https://youth.seoul.go.kr/youthnet/를 확인하실 수 있습니다.' metadata={'source': '7.txt'}\n"
          ]
        }
      ],
      "source": [
        "print(texts[0])"
      ]
    },
    {
      "cell_type": "code",
      "execution_count": null,
      "metadata": {
        "colab": {
          "base_uri": "https://localhost:8080/"
        },
        "id": "rytxpH3R7ehI",
        "outputId": "bcc0e2de-4505-4836-92cf-0b793965fe07"
      },
      "outputs": [
        {
          "name": "stdout",
          "output_type": "stream",
          "text": [
            "2개 이상으로 분할된 문서 :  {'40.txt': 2, '23.txt': 2, '49.txt': 2, '22.txt': 2, '48.txt': 2, '31.txt': 2, '36.txt': 2}\n",
            "분할된 텍스트의 개수 :  64\n"
          ]
        }
      ],
      "source": [
        "source_list = []\n",
        "for i in range(0, len(texts)):\n",
        "  source_list.append(texts[i].metadata['source'])\n",
        "\n",
        "element_counts = Counter(source_list)\n",
        "filtered_counts = {key: value for key, value in element_counts.items() if value >=2}\n",
        "print('2개 이상으로 분할된 문서 : ', filtered_counts)\n",
        "print('분할된 텍스트의 개수 : ',len(documents)+ len(filtered_counts))"
      ]
    },
    {
      "cell_type": "markdown",
      "metadata": {
        "id": "3A7g6dpY9aXF"
      },
      "source": [
        "# ChromaDB\n"
      ]
    },
    {
      "cell_type": "markdown",
      "metadata": {
        "id": "VN4NBrmu-Geq"
      },
      "source": []
    },
    {
      "cell_type": "code",
      "execution_count": null,
      "metadata": {
        "id": "LbhnNgc09KlM"
      },
      "outputs": [],
      "source": [
        "#ChromaDB 객체생성\n",
        "embedding = OpenAIEmbeddings()\n",
        "vectordb = Chroma.from_documents(\n",
        "    documents=texts,\n",
        "    embedding=embedding\n",
        ")"
      ]
    },
    {
      "cell_type": "code",
      "execution_count": null,
      "metadata": {
        "id": "NN-C-ZPK-edL"
      },
      "outputs": [],
      "source": [
        "#추천만들기\n",
        "retriver = vectordb.as_retriever()"
      ]
    },
    {
      "cell_type": "code",
      "execution_count": null,
      "metadata": {
        "colab": {
          "base_uri": "https://localhost:8080/"
        },
        "id": "fCyRmAbg-6Ei",
        "outputId": "be2a6fe7-b506-4745-beff-1024f0bea1e9"
      },
      "outputs": [
        {
          "name": "stdout",
          "output_type": "stream",
          "text": [
            "유사 문서 개수 :  4\n",
            "첫 번째 유사 문서 :  page_content='정책제목: 일생활균형 서울형 강소기업 지원\\n서울시는 청년과 중소기업의 일자리 미스매치 문제 해소를 위해 서울형 강소기업 발굴 및 지원을 통해 청년에게는 우수 중소기업에서 일할 기회를, 중소기업에게는 청년 인재를 채용할 기회를 제공하는 일자리 정책을 추진하고 있습니다. 이 정책은 2023년 1월 1일부터 2023년 12월 31일까지 사업운영이 이루어지며, 사업 신청은 동일한 기간 동안 가능합니다. 지원 내용으로는 근무 환경 개선금, 육아휴직 대체 청년 인턴 인건비 지원 등이 포함되어 있습니다. 추가로 50개 기업이 추가 선정될 예정입니다. 신청자격은 서울시 소재 중소기업 중 공공기관 인증을 받은 기업으로 제한되며, 기업의 재무제표 확인을 위해 2년의 최소 업력이 필요합니다. 신청은 해당 사이트(http://www.seouljobnow.co.kr/)에서 온라인으로 진행하며, 제출해야 할 서류는 공고를 참조하시기 바랍니다. 심사 및 발표는 일자리 창출 실적, 근로자 처우 수준, 기업 우수성, 고용 안정성 및 임금 수준, 복지제도 및 일생활 균형제도 운영 등을 기준으로 이루어집니다. 운영기관은 서울시청 일자리정책과입니다. 자세한 내용은 http://www.seouljobnow.co.kr/에서 확인하실 수 있습니다.' metadata={'source': '46.txt'}\n",
            "----------------------------------------\n",
            "각 유사 문서의 문서 출처 :\n",
            "46.txt\n",
            "44.txt\n",
            "25.txt\n",
            "41.txt\n"
          ]
        }
      ],
      "source": [
        "#연관도를 활용\n",
        "docs = retriver.get_relevant_documents(\"국내 스타트업 지원을 위한 정책이 있어?\")\n",
        "print('유사 문서 개수 : ', len(docs))\n",
        "print('첫 번째 유사 문서 : ', docs[0])\n",
        "print('--' * 20)\n",
        "print('각 유사 문서의 문서 출처 :')\n",
        "for doc in docs:\n",
        "  print(doc.metadata[\"source\"])\n"
      ]
    },
    {
      "cell_type": "code",
      "execution_count": null,
      "metadata": {
        "id": "7YWdmhwQ1fdy"
      },
      "outputs": [],
      "source": [
        "# 2개 반환\n",
        "retriever = vectordb.as_retriever(search_kwargs = {\"k\": 2})"
      ]
    },
    {
      "cell_type": "code",
      "execution_count": null,
      "metadata": {
        "colab": {
          "base_uri": "https://localhost:8080/"
        },
        "id": "oy_1PGnE5HgH",
        "outputId": "c968b9cc-ba36-4ccf-f0ab-f456e9f8c0ed"
      },
      "outputs": [
        {
          "name": "stdout",
          "output_type": "stream",
          "text": [
            "23.txt\n",
            "23.txt\n"
          ]
        }
      ],
      "source": [
        "docs = retriever.get_relevant_documents(\"신혼부부를 위한 정책이 있어?\")\n",
        "\n",
        "for doc in docs:\n",
        "  print(doc.metadata[\"source\"])"
      ]
    },
    {
      "cell_type": "markdown",
      "metadata": {
        "id": "hq7DswQN5l3k"
      },
      "source": [
        "# chain 만들기\n"
      ]
    },
    {
      "cell_type": "code",
      "execution_count": null,
      "metadata": {
        "id": "1BVQafLk5WgY"
      },
      "outputs": [],
      "source": [
        "# question chain\n",
        "qa_chain = RetrievalQA.from_chain_type(\n",
        "    llm=ChatOpenAI(model_name=\"gpt-3.5-turbo\", temperature=0),\n",
        "    chain_type=\"stuff\",\n",
        "    retriever=retriever,\n",
        "    return_source_documents=True)"
      ]
    },
    {
      "cell_type": "code",
      "execution_count": null,
      "metadata": {
        "colab": {
          "base_uri": "https://localhost:8080/"
        },
        "id": "NBJ-YSRY5xRM",
        "outputId": "34adcaa0-6e61-4542-c008-0d46f332758d"
      },
      "outputs": [
        {
          "name": "stdout",
          "output_type": "stream",
          "text": [
            "{'query': '신혼부부를 위한 정책이 궁금합니다.', 'result': '신혼부부를 위한 정책은 서울시에서 운영하는 정책으로, 주거마련에 대한 부담을 완화하여 혼인수 감소와 출산기피 현상을 해결하고, 더 나은 주거환경을 제공하기 위해 마련되었습니다. 이 정책은 대상 가구를 총 8,000가구로 제한하며, 지원 기간은 2023년 1월 1일부터 2023년 12월 31일까지입니다. 자세한 내용은 서울주거포털(https://housing.seoul.go.kr)에서 확인하실 수 있습니다.', 'source_documents': [Document(page_content='이 정책은 주거마련에 대한 부담을 완화하여 혼인수 감소와 출산기피 현상을 해결하고, 더 나은 주거환경을 제공하기 위해 서울시에서 운영하는 정책입니다. 대상 가구는 총 8,000가구로 제한되며, 지원 기간은 2023년 1월 1일부터 2023년 12월 31일까지입니다.\\n\\n이 정책에 참여하기 위해서는 다음의 신청자격을 충족해야 합니다. 먼저, 서울시민이거나 대출 후 1개월 이내에 서울로 전입 예정이어야 합니다. 또한 혼인신고일 기준으로 7년 이내의 신혼부부이거나 서울시 추천서 신청일로부터 6개월 이내에 결혼식 예정인 예비신혼부부여야 합니다. 부부의 합산 연소득은 9천 7백만원 이하여야 하며, 본인 및 배우자는 무주택자여야 합니다. 또한, 특정 주택 조건을 충족하는 주택의 임대차계약을 체결한 자에게 대출이 지원됩니다.\\n\\n이 정책은 서울주거포털(https://housing.seoul.go.kr)을 통해 온라인으로 신청할 수 있습니다. 필요한 제출서류로는 주민등록등본, 가족관계증명서, 혼인관계증명서, 그리고 임대차계약서가 있습니다.\\n\\n이 정책은 서울시청 주택정책과에서 운영되며, 자세한 사항은 해당 사이트(https://housing.seoul.go.kr)에서 확인하실 수 있습니다.', metadata={'source': '23.txt'}), Document(page_content='정책제목: 신혼부부 임차보증금 지원\\n정부에서는 주거 관련 정책을 통해 부담을 완화하여 더 나은 주거환경을 제공하고자 합니다. 현재 주거마련에 대한 부담으로 인해 혼인수가 감소하고 출산기피 현상이 발생하고 있습니다. 따라서 주거비 부담을 완화하여 이러한 문제를 해결하고, 좋은 주거환경을 제공하고자 합니다.\\n\\n이 정책은 서울시청 주택정책과에서 주관하며, 주거 마련에 대한 부담을 완화하기 위한 내용을 포함하고 있습니다. 지원 대상은 관내 임차보증금 7억 이내의 주택 또는 주거용 오피스텔에 대해 해당하는 서울시민이나 서울로 전입 예정인 자입니다. 대출한도는 임차보증금의 90% 이내 또는 2억원 중 작은 금액이며, 대출금의 최대 연 3.6% 이차보전 및 최장 10년까지 지원됩니다.\\n\\n주택조건과 대출형식은 한국주택금융공사 보증 및 협약은행(국민, 하나, 신한) 대출, 그리고 서울시 이차보전이 적용됩니다. 이 정책은 2023년 1월 1일부터 2023년 12월 31일까지 운영되며, 신청자격은 1세부터 100세까지의 연령을 가진 사람들이 해당합니다.\\n\\n대출을 받기 위한 추가 요건으로는 혼인신고일 기준으로 7년 이내의 신혼부부이거나 서울시 추천서 신청일로부터 6개월 이내에 결혼식 예정인 예비신혼부부여야 합니다. 또한 부부합산 연소득이 9천 7백만원 이하이고 본인 및 배우자가 무주택자여야 합니다. 대출을 받을 주택은 특정 조건을 충족하는 주택의 임대차계약을 체결한 사람들을 대상으로 합니다.\\n\\n이 정책은 서울주거포털(https://housing.seoul.go.kr)에서 온라인으로 신청할 수 있습니다. 필요한 서류로는 주민등록등본, 가족관계증명서, 혼인관계증명서, 그리고 임대차계약서가 제출되어야 합니다.\\n\\n이 정책은 주거마련에 대한 부담을 완화하여 혼인수 감소와 출산기피 현상을 해결하고, 더 나은 주거환경을 제공하기 위해 서울시에서 운영하는 정책입니다. 대상 가구는 총 8,000가구로 제한되며, 지원 기간은 2023년 1월 1일부터 2023년 12월 31일까지입니다.', metadata={'source': '23.txt'})]}\n"
          ]
        }
      ],
      "source": [
        "#Query\n",
        "input_text = \"신혼부부를 위한 정책이 궁금합니다.\"\n",
        "response = qa_chain(input_text)\n",
        "print(response)"
      ]
    },
    {
      "cell_type": "code",
      "execution_count": null,
      "metadata": {
        "id": "lL3Vv-mr5z66"
      },
      "outputs": [],
      "source": [
        "# define a method #1\n",
        "def get_chatbot_response(input_text):\n",
        "  response=qa_chain(input_text)\n",
        "  return response"
      ]
    },
    {
      "cell_type": "code",
      "execution_count": null,
      "metadata": {
        "id": "Gc-ANim58bPu"
      },
      "outputs": [],
      "source": [
        "# define a method #2\n",
        "def get_response(input_text):\n",
        "  print(response['result'].strip())\n",
        "  print('\\n문서 출처:')\n",
        "  for source in response['source_documents']:\n",
        "    print(source.metadata['source'])"
      ]
    },
    {
      "cell_type": "code",
      "execution_count": null,
      "metadata": {
        "colab": {
          "base_uri": "https://localhost:8080/"
        },
        "id": "ji_acU1j7biV",
        "outputId": "f43e5a2f-f0bc-49cd-abce-be5ae62b052c"
      },
      "outputs": [
        {
          "name": "stdout",
          "output_type": "stream",
          "text": [
            "{'query': '신혼부부를 위한 정책이 궁금합니다.', 'result': '신혼부부를 위한 정책은 서울시에서 운영하는 정책으로, 주거마련에 대한 부담을 완화하여 혼인수 감소와 출산기피 현상을 해결하고, 더 나은 주거환경을 제공하기 위해 마련되었습니다. 이 정책은 대상 가구를 총 8,000가구로 제한하며, 지원 기간은 2023년 1월 1일부터 2023년 12월 31일까지입니다. 자세한 내용은 서울주거포털(https://housing.seoul.go.kr)에서 확인하실 수 있습니다.', 'source_documents': [Document(page_content='이 정책은 주거마련에 대한 부담을 완화하여 혼인수 감소와 출산기피 현상을 해결하고, 더 나은 주거환경을 제공하기 위해 서울시에서 운영하는 정책입니다. 대상 가구는 총 8,000가구로 제한되며, 지원 기간은 2023년 1월 1일부터 2023년 12월 31일까지입니다.\\n\\n이 정책에 참여하기 위해서는 다음의 신청자격을 충족해야 합니다. 먼저, 서울시민이거나 대출 후 1개월 이내에 서울로 전입 예정이어야 합니다. 또한 혼인신고일 기준으로 7년 이내의 신혼부부이거나 서울시 추천서 신청일로부터 6개월 이내에 결혼식 예정인 예비신혼부부여야 합니다. 부부의 합산 연소득은 9천 7백만원 이하여야 하며, 본인 및 배우자는 무주택자여야 합니다. 또한, 특정 주택 조건을 충족하는 주택의 임대차계약을 체결한 자에게 대출이 지원됩니다.\\n\\n이 정책은 서울주거포털(https://housing.seoul.go.kr)을 통해 온라인으로 신청할 수 있습니다. 필요한 제출서류로는 주민등록등본, 가족관계증명서, 혼인관계증명서, 그리고 임대차계약서가 있습니다.\\n\\n이 정책은 서울시청 주택정책과에서 운영되며, 자세한 사항은 해당 사이트(https://housing.seoul.go.kr)에서 확인하실 수 있습니다.', metadata={'source': '23.txt'}), Document(page_content='정책제목: 신혼부부 임차보증금 지원\\n정부에서는 주거 관련 정책을 통해 부담을 완화하여 더 나은 주거환경을 제공하고자 합니다. 현재 주거마련에 대한 부담으로 인해 혼인수가 감소하고 출산기피 현상이 발생하고 있습니다. 따라서 주거비 부담을 완화하여 이러한 문제를 해결하고, 좋은 주거환경을 제공하고자 합니다.\\n\\n이 정책은 서울시청 주택정책과에서 주관하며, 주거 마련에 대한 부담을 완화하기 위한 내용을 포함하고 있습니다. 지원 대상은 관내 임차보증금 7억 이내의 주택 또는 주거용 오피스텔에 대해 해당하는 서울시민이나 서울로 전입 예정인 자입니다. 대출한도는 임차보증금의 90% 이내 또는 2억원 중 작은 금액이며, 대출금의 최대 연 3.6% 이차보전 및 최장 10년까지 지원됩니다.\\n\\n주택조건과 대출형식은 한국주택금융공사 보증 및 협약은행(국민, 하나, 신한) 대출, 그리고 서울시 이차보전이 적용됩니다. 이 정책은 2023년 1월 1일부터 2023년 12월 31일까지 운영되며, 신청자격은 1세부터 100세까지의 연령을 가진 사람들이 해당합니다.\\n\\n대출을 받기 위한 추가 요건으로는 혼인신고일 기준으로 7년 이내의 신혼부부이거나 서울시 추천서 신청일로부터 6개월 이내에 결혼식 예정인 예비신혼부부여야 합니다. 또한 부부합산 연소득이 9천 7백만원 이하이고 본인 및 배우자가 무주택자여야 합니다. 대출을 받을 주택은 특정 조건을 충족하는 주택의 임대차계약을 체결한 사람들을 대상으로 합니다.\\n\\n이 정책은 서울주거포털(https://housing.seoul.go.kr)에서 온라인으로 신청할 수 있습니다. 필요한 서류로는 주민등록등본, 가족관계증명서, 혼인관계증명서, 그리고 임대차계약서가 제출되어야 합니다.\\n\\n이 정책은 주거마련에 대한 부담을 완화하여 혼인수 감소와 출산기피 현상을 해결하고, 더 나은 주거환경을 제공하기 위해 서울시에서 운영하는 정책입니다. 대상 가구는 총 8,000가구로 제한되며, 지원 기간은 2023년 1월 1일부터 2023년 12월 31일까지입니다.', metadata={'source': '23.txt'})]}\n"
          ]
        }
      ],
      "source": [
        "#result 1\n",
        "result=get_chatbot_response(input_text)\n",
        "print(result)"
      ]
    },
    {
      "cell_type": "code",
      "execution_count": null,
      "metadata": {
        "colab": {
          "base_uri": "https://localhost:8080/"
        },
        "id": "u04O4dxy7lEa",
        "outputId": "c2c91c0a-5e0c-49ff-e5c2-b85c8b9beb53"
      },
      "outputs": [
        {
          "name": "stdout",
          "output_type": "stream",
          "text": [
            "신혼부부를 위한 정책은 서울시에서 운영하는 정책으로, 주거마련에 대한 부담을 완화하여 혼인수 감소와 출산기피 현상을 해결하고, 더 나은 주거환경을 제공하기 위해 마련되었습니다. 이 정책은 대상 가구를 총 8,000가구로 제한하며, 지원 기간은 2023년 1월 1일부터 2023년 12월 31일까지입니다. 자세한 내용은 서울주거포털(https://housing.seoul.go.kr)에서 확인하실 수 있습니다.\n",
            "\n",
            "문서 출처:\n",
            "23.txt\n",
            "23.txt\n"
          ]
        }
      ],
      "source": [
        "#result 2\n",
        "result2 = get_response(input_text)"
      ]
    },
    {
      "cell_type": "code",
      "execution_count": null,
      "metadata": {
        "colab": {
          "base_uri": "https://localhost:8080/"
        },
        "id": "a4EcFp-49tw2",
        "outputId": "89b2d1b0-5037-4103-cc5b-5fea7462d653"
      },
      "outputs": [
        {
          "name": "stdout",
          "output_type": "stream",
          "text": [
            "신혼부부를 위한 정책은 서울시에서 운영하는 정책으로, 주거마련에 대한 부담을 완화하여 혼인수 감소와 출산기피 현상을 해결하고, 더 나은 주거환경을 제공하기 위해 마련되었습니다. 이 정책은 대상 가구를 총 8,000가구로 제한하며, 지원 기간은 2023년 1월 1일부터 2023년 12월 31일까지입니다. 자세한 내용은 서울주거포털(https://housing.seoul.go.kr)에서 확인하실 수 있습니다.\n",
            "\n",
            "문서 출처:\n",
            "23.txt\n",
            "23.txt\n"
          ]
        }
      ],
      "source": [
        "input_text = \"신혼 부부의 신혼집 마련을 위한 정책이 있을까?\"\n",
        "chatbot_response = qa_chain(input_text)\n",
        "get_response(chatbot_response)"
      ]
    },
    {
      "cell_type": "code",
      "execution_count": null,
      "metadata": {
        "colab": {
          "base_uri": "https://localhost:8080/"
        },
        "id": "x5VZ8ZwUAHMV",
        "outputId": "a0968c49-507a-4e9a-d27a-ddc67be1dd4e"
      },
      "outputs": [
        {
          "data": {
            "text/plain": [
              "{'query': '전세자금이 부족한 사람을 위한 정책 이름이 뭐야?',\n",
              " 'result': '정책 이름은 \"희망두배 청년통장\"입니다.',\n",
              " 'source_documents': [Document(page_content='정책제목: 희망두배 청년통장\\n서울시청 안심돌봄복지과에서는 저소득 근로 청년들의 자립의욕 고취와 빈곤층 전락을 방지하기 위해 재정적 지원을 통한 자립을 지원하는 정책을 운영하고 있습니다. 이 정책은 교육비, 주거비, 결혼자금, 창업운영자금 등을 위한 저축을 지원하는 내용을 포함하고 있습니다.\\n\\n지원 내용은 다음과 같습니다:\\n\\n저축 목적에 따른 월 10만원 또는 15만원의 저축액 선택 (저축기간 2년 또는 3년)\\n지원 금액은 본인이 적립한 금액의 100%로 지원되며, 10만원 저축 시 2년형은 480만원 이상(이자 포함), 3년형은 720만원 이상(이자 포함), 15만원 저축 시 2년형은 720만원 이상(이자 포함), 3년형은 1,080만원 이상(이자 포함)의 지원이 이루어집니다.\\n신청자격은 18세에서 34세까지이며, 서울시 거주자이고 공고일 현재 근로 중인 자격 요건을 모두 충족하는 경우 신청할 수 있습니다.\\n\\n신청은 방문접수, 우편 신청(도착분 기준 18:00까지 동주민센터 도착), 이메일 신청(접수 마감일 18:00까지 도착) 방법으로 이루어집니다. 신청 기한 내에 제출서류가 누락되거나 식별이 불가능한 경우 대상자 선정에서 제외될 수 있습니다. 이메일로 제출할 경우 원본 스캔 또는 이미지 촬영하여 PDF, JPG, PNG 파일 형식으로 제출해야 합니다.\\n\\n선정 결과는 추후에 공지될 예정이며, 자세한 신청 방법과 필요한 서류는 서울시복지재단, 서울시 및 25개 자치구 홈페이지에서 확인하실 수 있습니다. 기타 문의 사항은 1688-1453, 120다산콜, 해당 주소지의 자치구 및 동주민센터로 문의하시면 됩니다.\\n\\n이 정책은 서울시복지재단에서 운영되는 정책을 운영하고 있습니다. 자세한 내용과 신청 방법은 서울시복지재단의 홈페이지 및 서울시 안심돌봄복지과의 홈페이지에서 확인하실 수 있습니다.', metadata={'source': '40.txt'}),\n",
              "  Document(page_content='이 정책은 서울시복지재단에서 운영되는 정책을 운영하고 있습니다. 자세한 내용과 신청 방법은 서울시복지재단의 홈페이지 및 서울시 안심돌봄복지과의 홈페이지에서 확인하실 수 있습니다.\\n\\n이 정책은 저소득 근로 청년들이 안정적으로 자립하고 구체적인 미래 계획을 수립할 수 있도록 재정적인 지원을 제공하여 빈곤층으로의 전락을 방지하는데 목적을 두고 있습니다. 주관기관인 서울시청 안심돌봄복지과를 통해 관련 서비스가 제공되고 있으며, 신청 대상자는 자격 요건을 충족하는 저소득 근로 청년들입니다.\\n\\n이 정책은 생활지원에 해당하며, 자세한 내용과 신청 절차는 해당 홈페이지에서 확인하실 수 있습니다. 필요한 서류와 신청 기간은 공고문을 통해 안내되며, 신청 결과는 추후에 공지될 예정입니다. 운영기관인 서울시복지재단을 통해 관련 문의사항을 해결하실 수 있습니다.\\n\\n서울시는 저소득 근로 청년들이 안정한 생활을 영위하고 자립할 수 있는 환경을 조성하기 위해 다양한 정책을 추진하고 있으며, 이를 통해 청년들의 삶의 질과 미래에 대한 기대를 향상시키고자 노력하고 있습니다.', metadata={'source': '40.txt'})]}"
            ]
          },
          "execution_count": 23,
          "metadata": {},
          "output_type": "execute_result"
        }
      ],
      "source": [
        "#chain을 만들었으니 다른 질문으로 테스트\n",
        "input_text = \"전세자금이 부족한 사람을 위한 정책 이름이 뭐야?\"\n",
        "llm_response = qa_chain(input_text)\n",
        "get_chatbot_response(llm_response)"
      ]
    },
    {
      "cell_type": "code",
      "execution_count": null,
      "metadata": {
        "colab": {
          "base_uri": "https://localhost:8080/"
        },
        "id": "tPa4MugdAga8",
        "outputId": "c9eefaa9-e2b7-4eac-9490-dd074b09c01b"
      },
      "outputs": [
        {
          "name": "stdout",
          "output_type": "stream",
          "text": [
            "신혼부부를 위한 정책은 서울시에서 운영하는 정책으로, 주거마련에 대한 부담을 완화하여 혼인수 감소와 출산기피 현상을 해결하고, 더 나은 주거환경을 제공하기 위해 마련되었습니다. 이 정책은 대상 가구를 총 8,000가구로 제한하며, 지원 기간은 2023년 1월 1일부터 2023년 12월 31일까지입니다. 자세한 내용은 서울주거포털(https://housing.seoul.go.kr)에서 확인하실 수 있습니다.\n",
            "\n",
            "문서 출처:\n",
            "23.txt\n",
            "23.txt\n"
          ]
        }
      ],
      "source": [
        "# 질문 이어서\n",
        "query = \"희망두배 청년통장의 지원 조건은?\"\n",
        "llm_response = qa_chain(query)\n",
        "get_response(llm_response)"
      ]
    },
    {
      "cell_type": "markdown",
      "metadata": {
        "id": "O9bdfXZdB8Os"
      },
      "source": [
        "# Gradio"
      ]
    },
    {
      "cell_type": "code",
      "execution_count": null,
      "metadata": {
        "colab": {
          "base_uri": "https://localhost:8080/"
        },
        "id": "XQC4J9YNBBTE",
        "outputId": "a3afda85-59bb-4091-c231-48067befc5bd"
      },
      "outputs": [
        {
          "name": "stdout",
          "output_type": "stream",
          "text": [
            "Collecting gradio\n",
            "  Downloading gradio-4.13.0-py3-none-any.whl (16.6 MB)\n",
            "\u001b[2K     \u001b[90m━━━━━━━━━━━━━━━━━━━━━━━━━━━━━━━━━━━━━━━━\u001b[0m \u001b[32m16.6/16.6 MB\u001b[0m \u001b[31m31.2 MB/s\u001b[0m eta \u001b[36m0:00:00\u001b[0m\n",
            "\u001b[?25hCollecting aiofiles<24.0,>=22.0 (from gradio)\n",
            "  Downloading aiofiles-23.2.1-py3-none-any.whl (15 kB)\n",
            "Requirement already satisfied: altair<6.0,>=4.2.0 in /usr/local/lib/python3.10/dist-packages (from gradio) (4.2.2)\n",
            "Requirement already satisfied: fastapi in /usr/local/lib/python3.10/dist-packages (from gradio) (0.108.0)\n",
            "Collecting ffmpy (from gradio)\n",
            "  Downloading ffmpy-0.3.1.tar.gz (5.5 kB)\n",
            "  Preparing metadata (setup.py) ... \u001b[?25l\u001b[?25hdone\n",
            "Collecting gradio-client==0.8.0 (from gradio)\n",
            "  Downloading gradio_client-0.8.0-py3-none-any.whl (305 kB)\n",
            "\u001b[2K     \u001b[90m━━━━━━━━━━━━━━━━━━━━━━━━━━━━━━━━━━━━━━━━\u001b[0m \u001b[32m305.1/305.1 kB\u001b[0m \u001b[31m28.0 MB/s\u001b[0m eta \u001b[36m0:00:00\u001b[0m\n",
            "\u001b[?25hCollecting httpx (from gradio)\n",
            "  Downloading httpx-0.26.0-py3-none-any.whl (75 kB)\n",
            "\u001b[2K     \u001b[90m━━━━━━━━━━━━━━━━━━━━━━━━━━━━━━━━━━━━━━━━\u001b[0m \u001b[32m75.9/75.9 kB\u001b[0m \u001b[31m10.8 MB/s\u001b[0m eta \u001b[36m0:00:00\u001b[0m\n",
            "\u001b[?25hRequirement already satisfied: huggingface-hub>=0.19.3 in /usr/local/lib/python3.10/dist-packages (from gradio) (0.20.1)\n",
            "Requirement already satisfied: importlib-resources<7.0,>=1.3 in /usr/local/lib/python3.10/dist-packages (from gradio) (6.1.1)\n",
            "Requirement already satisfied: jinja2<4.0 in /usr/local/lib/python3.10/dist-packages (from gradio) (3.1.2)\n",
            "Requirement already satisfied: markupsafe~=2.0 in /usr/local/lib/python3.10/dist-packages (from gradio) (2.1.3)\n",
            "Requirement already satisfied: matplotlib~=3.0 in /usr/local/lib/python3.10/dist-packages (from gradio) (3.7.1)\n",
            "Requirement already satisfied: numpy~=1.0 in /usr/local/lib/python3.10/dist-packages (from gradio) (1.23.5)\n",
            "Collecting orjson~=3.0 (from gradio)\n",
            "  Downloading orjson-3.9.10-cp310-cp310-manylinux_2_17_x86_64.manylinux2014_x86_64.whl (138 kB)\n",
            "\u001b[2K     \u001b[90m━━━━━━━━━━━━━━━━━━━━━━━━━━━━━━━━━━━━━━━━\u001b[0m \u001b[32m138.7/138.7 kB\u001b[0m \u001b[31m16.7 MB/s\u001b[0m eta \u001b[36m0:00:00\u001b[0m\n",
            "\u001b[?25hRequirement already satisfied: packaging in /usr/local/lib/python3.10/dist-packages (from gradio) (23.2)\n",
            "Requirement already satisfied: pandas<3.0,>=1.0 in /usr/local/lib/python3.10/dist-packages (from gradio) (1.5.3)\n",
            "Requirement already satisfied: pillow<11.0,>=8.0 in /usr/local/lib/python3.10/dist-packages (from gradio) (9.4.0)\n",
            "Collecting pydantic>=2.0 (from gradio)\n",
            "  Downloading pydantic-2.5.3-py3-none-any.whl (381 kB)\n",
            "\u001b[2K     \u001b[90m━━━━━━━━━━━━━━━━━━━━━━━━━━━━━━━━━━━━━━━━\u001b[0m \u001b[32m381.9/381.9 kB\u001b[0m \u001b[31m32.7 MB/s\u001b[0m eta \u001b[36m0:00:00\u001b[0m\n",
            "\u001b[?25hCollecting pydub (from gradio)\n",
            "  Downloading pydub-0.25.1-py2.py3-none-any.whl (32 kB)\n",
            "Collecting python-multipart (from gradio)\n",
            "  Downloading python_multipart-0.0.6-py3-none-any.whl (45 kB)\n",
            "\u001b[2K     \u001b[90m━━━━━━━━━━━━━━━━━━━━━━━━━━━━━━━━━━━━━━━━\u001b[0m \u001b[32m45.7/45.7 kB\u001b[0m \u001b[31m6.0 MB/s\u001b[0m eta \u001b[36m0:00:00\u001b[0m\n",
            "\u001b[?25hRequirement already satisfied: pyyaml<7.0,>=5.0 in /usr/local/lib/python3.10/dist-packages (from gradio) (6.0.1)\n",
            "Collecting semantic-version~=2.0 (from gradio)\n",
            "  Downloading semantic_version-2.10.0-py2.py3-none-any.whl (15 kB)\n",
            "Collecting tomlkit==0.12.0 (from gradio)\n",
            "  Downloading tomlkit-0.12.0-py3-none-any.whl (37 kB)\n",
            "Requirement already satisfied: typer[all]<1.0,>=0.9 in /usr/local/lib/python3.10/dist-packages (from gradio) (0.9.0)\n",
            "Requirement already satisfied: typing-extensions~=4.0 in /usr/local/lib/python3.10/dist-packages (from gradio) (4.9.0)\n",
            "Requirement already satisfied: uvicorn>=0.14.0 in /usr/local/lib/python3.10/dist-packages (from gradio) (0.25.0)\n",
            "Requirement already satisfied: fsspec in /usr/local/lib/python3.10/dist-packages (from gradio-client==0.8.0->gradio) (2023.6.0)\n",
            "Collecting websockets<12.0,>=10.0 (from gradio-client==0.8.0->gradio)\n",
            "  Downloading websockets-11.0.3-cp310-cp310-manylinux_2_5_x86_64.manylinux1_x86_64.manylinux_2_17_x86_64.manylinux2014_x86_64.whl (129 kB)\n",
            "\u001b[2K     \u001b[90m━━━━━━━━━━━━━━━━━━━━━━━━━━━━━━━━━━━━━━━━\u001b[0m \u001b[32m129.9/129.9 kB\u001b[0m \u001b[31m16.1 MB/s\u001b[0m eta \u001b[36m0:00:00\u001b[0m\n",
            "\u001b[?25hRequirement already satisfied: entrypoints in /usr/local/lib/python3.10/dist-packages (from altair<6.0,>=4.2.0->gradio) (0.4)\n",
            "Requirement already satisfied: jsonschema>=3.0 in /usr/local/lib/python3.10/dist-packages (from altair<6.0,>=4.2.0->gradio) (4.19.2)\n",
            "Requirement already satisfied: toolz in /usr/local/lib/python3.10/dist-packages (from altair<6.0,>=4.2.0->gradio) (0.12.0)\n",
            "Requirement already satisfied: filelock in /usr/local/lib/python3.10/dist-packages (from huggingface-hub>=0.19.3->gradio) (3.13.1)\n",
            "Requirement already satisfied: requests in /usr/local/lib/python3.10/dist-packages (from huggingface-hub>=0.19.3->gradio) (2.31.0)\n",
            "Requirement already satisfied: tqdm>=4.42.1 in /usr/local/lib/python3.10/dist-packages (from huggingface-hub>=0.19.3->gradio) (4.66.1)\n",
            "Requirement already satisfied: contourpy>=1.0.1 in /usr/local/lib/python3.10/dist-packages (from matplotlib~=3.0->gradio) (1.2.0)\n",
            "Requirement already satisfied: cycler>=0.10 in /usr/local/lib/python3.10/dist-packages (from matplotlib~=3.0->gradio) (0.12.1)\n",
            "Requirement already satisfied: fonttools>=4.22.0 in /usr/local/lib/python3.10/dist-packages (from matplotlib~=3.0->gradio) (4.47.0)\n",
            "Requirement already satisfied: kiwisolver>=1.0.1 in /usr/local/lib/python3.10/dist-packages (from matplotlib~=3.0->gradio) (1.4.5)\n",
            "Requirement already satisfied: pyparsing>=2.3.1 in /usr/local/lib/python3.10/dist-packages (from matplotlib~=3.0->gradio) (3.1.1)\n",
            "Requirement already satisfied: python-dateutil>=2.7 in /usr/local/lib/python3.10/dist-packages (from matplotlib~=3.0->gradio) (2.8.2)\n",
            "Requirement already satisfied: pytz>=2020.1 in /usr/local/lib/python3.10/dist-packages (from pandas<3.0,>=1.0->gradio) (2023.3.post1)\n",
            "Collecting annotated-types>=0.4.0 (from pydantic>=2.0->gradio)\n",
            "  Downloading annotated_types-0.6.0-py3-none-any.whl (12 kB)\n",
            "Collecting pydantic-core==2.14.6 (from pydantic>=2.0->gradio)\n",
            "  Downloading pydantic_core-2.14.6-cp310-cp310-manylinux_2_17_x86_64.manylinux2014_x86_64.whl (2.1 MB)\n",
            "\u001b[2K     \u001b[90m━━━━━━━━━━━━━━━━━━━━━━━━━━━━━━━━━━━━━━━━\u001b[0m \u001b[32m2.1/2.1 MB\u001b[0m \u001b[31m49.1 MB/s\u001b[0m eta \u001b[36m0:00:00\u001b[0m\n",
            "\u001b[?25hRequirement already satisfied: click<9.0.0,>=7.1.1 in /usr/local/lib/python3.10/dist-packages (from typer[all]<1.0,>=0.9->gradio) (8.1.7)\n",
            "Collecting colorama<0.5.0,>=0.4.3 (from typer[all]<1.0,>=0.9->gradio)\n",
            "  Downloading colorama-0.4.6-py2.py3-none-any.whl (25 kB)\n",
            "Collecting shellingham<2.0.0,>=1.3.0 (from typer[all]<1.0,>=0.9->gradio)\n",
            "  Downloading shellingham-1.5.4-py2.py3-none-any.whl (9.8 kB)\n",
            "Requirement already satisfied: rich<14.0.0,>=10.11.0 in /usr/local/lib/python3.10/dist-packages (from typer[all]<1.0,>=0.9->gradio) (13.7.0)\n",
            "Requirement already satisfied: h11>=0.8 in /usr/local/lib/python3.10/dist-packages (from uvicorn>=0.14.0->gradio) (0.14.0)\n",
            "Requirement already satisfied: starlette<0.33.0,>=0.29.0 in /usr/local/lib/python3.10/dist-packages (from fastapi->gradio) (0.32.0.post1)\n",
            "Requirement already satisfied: anyio in /usr/local/lib/python3.10/dist-packages (from httpx->gradio) (3.7.1)\n",
            "Requirement already satisfied: certifi in /usr/local/lib/python3.10/dist-packages (from httpx->gradio) (2023.11.17)\n",
            "Collecting httpcore==1.* (from httpx->gradio)\n",
            "  Downloading httpcore-1.0.2-py3-none-any.whl (76 kB)\n",
            "\u001b[2K     \u001b[90m━━━━━━━━━━━━━━━━━━━━━━━━━━━━━━━━━━━━━━━━\u001b[0m \u001b[32m76.9/76.9 kB\u001b[0m \u001b[31m11.3 MB/s\u001b[0m eta \u001b[36m0:00:00\u001b[0m\n",
            "\u001b[?25hRequirement already satisfied: idna in /usr/local/lib/python3.10/dist-packages (from httpx->gradio) (3.6)\n",
            "Requirement already satisfied: sniffio in /usr/local/lib/python3.10/dist-packages (from httpx->gradio) (1.3.0)\n",
            "Requirement already satisfied: attrs>=22.2.0 in /usr/local/lib/python3.10/dist-packages (from jsonschema>=3.0->altair<6.0,>=4.2.0->gradio) (23.1.0)\n",
            "Requirement already satisfied: jsonschema-specifications>=2023.03.6 in /usr/local/lib/python3.10/dist-packages (from jsonschema>=3.0->altair<6.0,>=4.2.0->gradio) (2023.11.2)\n",
            "Requirement already satisfied: referencing>=0.28.4 in /usr/local/lib/python3.10/dist-packages (from jsonschema>=3.0->altair<6.0,>=4.2.0->gradio) (0.32.0)\n",
            "Requirement already satisfied: rpds-py>=0.7.1 in /usr/local/lib/python3.10/dist-packages (from jsonschema>=3.0->altair<6.0,>=4.2.0->gradio) (0.15.2)\n",
            "Requirement already satisfied: six>=1.5 in /usr/local/lib/python3.10/dist-packages (from python-dateutil>=2.7->matplotlib~=3.0->gradio) (1.16.0)\n",
            "Requirement already satisfied: markdown-it-py>=2.2.0 in /usr/local/lib/python3.10/dist-packages (from rich<14.0.0,>=10.11.0->typer[all]<1.0,>=0.9->gradio) (3.0.0)\n",
            "Requirement already satisfied: pygments<3.0.0,>=2.13.0 in /usr/local/lib/python3.10/dist-packages (from rich<14.0.0,>=10.11.0->typer[all]<1.0,>=0.9->gradio) (2.16.1)\n",
            "Requirement already satisfied: exceptiongroup in /usr/local/lib/python3.10/dist-packages (from anyio->httpx->gradio) (1.2.0)\n",
            "Requirement already satisfied: charset-normalizer<4,>=2 in /usr/local/lib/python3.10/dist-packages (from requests->huggingface-hub>=0.19.3->gradio) (3.3.2)\n",
            "Requirement already satisfied: urllib3<3,>=1.21.1 in /usr/local/lib/python3.10/dist-packages (from requests->huggingface-hub>=0.19.3->gradio) (1.26.18)\n",
            "Requirement already satisfied: mdurl~=0.1 in /usr/local/lib/python3.10/dist-packages (from markdown-it-py>=2.2.0->rich<14.0.0,>=10.11.0->typer[all]<1.0,>=0.9->gradio) (0.1.2)\n",
            "Building wheels for collected packages: ffmpy\n",
            "  Building wheel for ffmpy (setup.py) ... \u001b[?25l\u001b[?25hdone\n",
            "  Created wheel for ffmpy: filename=ffmpy-0.3.1-py3-none-any.whl size=5579 sha256=ea6809258f2ad20cc16e9b3c6333c82ac95cbb052364d7b2d1d82376cc445293\n",
            "  Stored in directory: /root/.cache/pip/wheels/01/a6/d1/1c0828c304a4283b2c1639a09ad86f83d7c487ef34c6b4a1bf\n",
            "Successfully built ffmpy\n",
            "Installing collected packages: pydub, ffmpy, websockets, tomlkit, shellingham, semantic-version, python-multipart, pydantic-core, orjson, httpcore, colorama, annotated-types, aiofiles, pydantic, httpx, gradio-client, gradio\n",
            "  Attempting uninstall: websockets\n",
            "    Found existing installation: websockets 12.0\n",
            "    Uninstalling websockets-12.0:\n",
            "      Successfully uninstalled websockets-12.0\n",
            "  Attempting uninstall: pydantic\n",
            "    Found existing installation: pydantic 1.10.13\n",
            "    Uninstalling pydantic-1.10.13:\n",
            "      Successfully uninstalled pydantic-1.10.13\n",
            "\u001b[31mERROR: pip's dependency resolver does not currently take into account all the packages that are installed. This behaviour is the source of the following dependency conflicts.\n",
            "lida 0.0.10 requires kaleido, which is not installed.\n",
            "llmx 0.0.15a0 requires cohere, which is not installed.\u001b[0m\u001b[31m\n",
            "\u001b[0mSuccessfully installed aiofiles-23.2.1 annotated-types-0.6.0 colorama-0.4.6 ffmpy-0.3.1 gradio-4.13.0 gradio-client-0.8.0 httpcore-1.0.2 httpx-0.26.0 orjson-3.9.10 pydantic-2.5.3 pydantic-core-2.14.6 pydub-0.25.1 python-multipart-0.0.6 semantic-version-2.10.0 shellingham-1.5.4 tomlkit-0.12.0 websockets-11.0.3\n",
            "Requirement already satisfied: gradio in /usr/local/lib/python3.10/dist-packages (4.13.0)\n",
            "Requirement already satisfied: aiofiles<24.0,>=22.0 in /usr/local/lib/python3.10/dist-packages (from gradio) (23.2.1)\n",
            "Requirement already satisfied: altair<6.0,>=4.2.0 in /usr/local/lib/python3.10/dist-packages (from gradio) (4.2.2)\n",
            "Requirement already satisfied: fastapi in /usr/local/lib/python3.10/dist-packages (from gradio) (0.108.0)\n",
            "Requirement already satisfied: ffmpy in /usr/local/lib/python3.10/dist-packages (from gradio) (0.3.1)\n",
            "Requirement already satisfied: gradio-client==0.8.0 in /usr/local/lib/python3.10/dist-packages (from gradio) (0.8.0)\n",
            "Requirement already satisfied: httpx in /usr/local/lib/python3.10/dist-packages (from gradio) (0.26.0)\n",
            "Requirement already satisfied: huggingface-hub>=0.19.3 in /usr/local/lib/python3.10/dist-packages (from gradio) (0.20.1)\n",
            "Requirement already satisfied: importlib-resources<7.0,>=1.3 in /usr/local/lib/python3.10/dist-packages (from gradio) (6.1.1)\n",
            "Requirement already satisfied: jinja2<4.0 in /usr/local/lib/python3.10/dist-packages (from gradio) (3.1.2)\n",
            "Requirement already satisfied: markupsafe~=2.0 in /usr/local/lib/python3.10/dist-packages (from gradio) (2.1.3)\n",
            "Requirement already satisfied: matplotlib~=3.0 in /usr/local/lib/python3.10/dist-packages (from gradio) (3.7.1)\n",
            "Requirement already satisfied: numpy~=1.0 in /usr/local/lib/python3.10/dist-packages (from gradio) (1.23.5)\n",
            "Requirement already satisfied: orjson~=3.0 in /usr/local/lib/python3.10/dist-packages (from gradio) (3.9.10)\n",
            "Requirement already satisfied: packaging in /usr/local/lib/python3.10/dist-packages (from gradio) (23.2)\n",
            "Requirement already satisfied: pandas<3.0,>=1.0 in /usr/local/lib/python3.10/dist-packages (from gradio) (1.5.3)\n",
            "Requirement already satisfied: pillow<11.0,>=8.0 in /usr/local/lib/python3.10/dist-packages (from gradio) (9.4.0)\n",
            "Requirement already satisfied: pydantic>=2.0 in /usr/local/lib/python3.10/dist-packages (from gradio) (2.5.3)\n",
            "Requirement already satisfied: pydub in /usr/local/lib/python3.10/dist-packages (from gradio) (0.25.1)\n",
            "Requirement already satisfied: python-multipart in /usr/local/lib/python3.10/dist-packages (from gradio) (0.0.6)\n",
            "Requirement already satisfied: pyyaml<7.0,>=5.0 in /usr/local/lib/python3.10/dist-packages (from gradio) (6.0.1)\n",
            "Requirement already satisfied: semantic-version~=2.0 in /usr/local/lib/python3.10/dist-packages (from gradio) (2.10.0)\n",
            "Requirement already satisfied: tomlkit==0.12.0 in /usr/local/lib/python3.10/dist-packages (from gradio) (0.12.0)\n",
            "Requirement already satisfied: typer[all]<1.0,>=0.9 in /usr/local/lib/python3.10/dist-packages (from gradio) (0.9.0)\n",
            "Requirement already satisfied: typing-extensions~=4.0 in /usr/local/lib/python3.10/dist-packages (from gradio) (4.9.0)\n",
            "Requirement already satisfied: uvicorn>=0.14.0 in /usr/local/lib/python3.10/dist-packages (from gradio) (0.25.0)\n",
            "Requirement already satisfied: fsspec in /usr/local/lib/python3.10/dist-packages (from gradio-client==0.8.0->gradio) (2023.6.0)\n",
            "Requirement already satisfied: websockets<12.0,>=10.0 in /usr/local/lib/python3.10/dist-packages (from gradio-client==0.8.0->gradio) (11.0.3)\n",
            "Requirement already satisfied: entrypoints in /usr/local/lib/python3.10/dist-packages (from altair<6.0,>=4.2.0->gradio) (0.4)\n",
            "Requirement already satisfied: jsonschema>=3.0 in /usr/local/lib/python3.10/dist-packages (from altair<6.0,>=4.2.0->gradio) (4.19.2)\n",
            "Requirement already satisfied: toolz in /usr/local/lib/python3.10/dist-packages (from altair<6.0,>=4.2.0->gradio) (0.12.0)\n",
            "Requirement already satisfied: filelock in /usr/local/lib/python3.10/dist-packages (from huggingface-hub>=0.19.3->gradio) (3.13.1)\n",
            "Requirement already satisfied: requests in /usr/local/lib/python3.10/dist-packages (from huggingface-hub>=0.19.3->gradio) (2.31.0)\n",
            "Requirement already satisfied: tqdm>=4.42.1 in /usr/local/lib/python3.10/dist-packages (from huggingface-hub>=0.19.3->gradio) (4.66.1)\n",
            "Requirement already satisfied: contourpy>=1.0.1 in /usr/local/lib/python3.10/dist-packages (from matplotlib~=3.0->gradio) (1.2.0)\n",
            "Requirement already satisfied: cycler>=0.10 in /usr/local/lib/python3.10/dist-packages (from matplotlib~=3.0->gradio) (0.12.1)\n",
            "Requirement already satisfied: fonttools>=4.22.0 in /usr/local/lib/python3.10/dist-packages (from matplotlib~=3.0->gradio) (4.47.0)\n",
            "Requirement already satisfied: kiwisolver>=1.0.1 in /usr/local/lib/python3.10/dist-packages (from matplotlib~=3.0->gradio) (1.4.5)\n",
            "Requirement already satisfied: pyparsing>=2.3.1 in /usr/local/lib/python3.10/dist-packages (from matplotlib~=3.0->gradio) (3.1.1)\n",
            "Requirement already satisfied: python-dateutil>=2.7 in /usr/local/lib/python3.10/dist-packages (from matplotlib~=3.0->gradio) (2.8.2)\n",
            "Requirement already satisfied: pytz>=2020.1 in /usr/local/lib/python3.10/dist-packages (from pandas<3.0,>=1.0->gradio) (2023.3.post1)\n",
            "Requirement already satisfied: annotated-types>=0.4.0 in /usr/local/lib/python3.10/dist-packages (from pydantic>=2.0->gradio) (0.6.0)\n",
            "Requirement already satisfied: pydantic-core==2.14.6 in /usr/local/lib/python3.10/dist-packages (from pydantic>=2.0->gradio) (2.14.6)\n",
            "Requirement already satisfied: click<9.0.0,>=7.1.1 in /usr/local/lib/python3.10/dist-packages (from typer[all]<1.0,>=0.9->gradio) (8.1.7)\n",
            "Requirement already satisfied: colorama<0.5.0,>=0.4.3 in /usr/local/lib/python3.10/dist-packages (from typer[all]<1.0,>=0.9->gradio) (0.4.6)\n",
            "Requirement already satisfied: shellingham<2.0.0,>=1.3.0 in /usr/local/lib/python3.10/dist-packages (from typer[all]<1.0,>=0.9->gradio) (1.5.4)\n",
            "Requirement already satisfied: rich<14.0.0,>=10.11.0 in /usr/local/lib/python3.10/dist-packages (from typer[all]<1.0,>=0.9->gradio) (13.7.0)\n",
            "Requirement already satisfied: h11>=0.8 in /usr/local/lib/python3.10/dist-packages (from uvicorn>=0.14.0->gradio) (0.14.0)\n",
            "Requirement already satisfied: starlette<0.33.0,>=0.29.0 in /usr/local/lib/python3.10/dist-packages (from fastapi->gradio) (0.32.0.post1)\n",
            "Requirement already satisfied: anyio in /usr/local/lib/python3.10/dist-packages (from httpx->gradio) (3.7.1)\n",
            "Requirement already satisfied: certifi in /usr/local/lib/python3.10/dist-packages (from httpx->gradio) (2023.11.17)\n",
            "Requirement already satisfied: httpcore==1.* in /usr/local/lib/python3.10/dist-packages (from httpx->gradio) (1.0.2)\n",
            "Requirement already satisfied: idna in /usr/local/lib/python3.10/dist-packages (from httpx->gradio) (3.6)\n",
            "Requirement already satisfied: sniffio in /usr/local/lib/python3.10/dist-packages (from httpx->gradio) (1.3.0)\n",
            "Requirement already satisfied: attrs>=22.2.0 in /usr/local/lib/python3.10/dist-packages (from jsonschema>=3.0->altair<6.0,>=4.2.0->gradio) (23.1.0)\n",
            "Requirement already satisfied: jsonschema-specifications>=2023.03.6 in /usr/local/lib/python3.10/dist-packages (from jsonschema>=3.0->altair<6.0,>=4.2.0->gradio) (2023.11.2)\n",
            "Requirement already satisfied: referencing>=0.28.4 in /usr/local/lib/python3.10/dist-packages (from jsonschema>=3.0->altair<6.0,>=4.2.0->gradio) (0.32.0)\n",
            "Requirement already satisfied: rpds-py>=0.7.1 in /usr/local/lib/python3.10/dist-packages (from jsonschema>=3.0->altair<6.0,>=4.2.0->gradio) (0.15.2)\n",
            "Requirement already satisfied: six>=1.5 in /usr/local/lib/python3.10/dist-packages (from python-dateutil>=2.7->matplotlib~=3.0->gradio) (1.16.0)\n",
            "Requirement already satisfied: markdown-it-py>=2.2.0 in /usr/local/lib/python3.10/dist-packages (from rich<14.0.0,>=10.11.0->typer[all]<1.0,>=0.9->gradio) (3.0.0)\n",
            "Requirement already satisfied: pygments<3.0.0,>=2.13.0 in /usr/local/lib/python3.10/dist-packages (from rich<14.0.0,>=10.11.0->typer[all]<1.0,>=0.9->gradio) (2.16.1)\n",
            "Requirement already satisfied: exceptiongroup in /usr/local/lib/python3.10/dist-packages (from anyio->httpx->gradio) (1.2.0)\n",
            "Requirement already satisfied: charset-normalizer<4,>=2 in /usr/local/lib/python3.10/dist-packages (from requests->huggingface-hub>=0.19.3->gradio) (3.3.2)\n",
            "Requirement already satisfied: urllib3<3,>=1.21.1 in /usr/local/lib/python3.10/dist-packages (from requests->huggingface-hub>=0.19.3->gradio) (1.26.18)\n",
            "Requirement already satisfied: mdurl~=0.1 in /usr/local/lib/python3.10/dist-packages (from markdown-it-py>=2.2.0->rich<14.0.0,>=10.11.0->typer[all]<1.0,>=0.9->gradio) (0.1.2)\n"
          ]
        }
      ],
      "source": [
        "# install\n",
        "!pip install gradio\n",
        "!pip install --upgrade gradio\n",
        "# !pip install --upgrade pydantic"
      ]
    },
    {
      "cell_type": "code",
      "execution_count": null,
      "metadata": {
        "colab": {
          "base_uri": "https://localhost:8080/"
        },
        "id": "wXhCWcczMtGr",
        "outputId": "324c434b-4f46-4895-fdf1-bf55223f298c"
      },
      "outputs": [
        {
          "name": "stdout",
          "output_type": "stream",
          "text": [
            "Name: pydantic\n",
            "Version: 2.5.3\n",
            "Summary: Data validation using Python type hints\n",
            "Home-page: \n",
            "Author: \n",
            "Author-email: Samuel Colvin <s@muelcolvin.com>, Eric Jolibois <em.jolibois@gmail.com>, Hasan Ramezani <hasan.r67@gmail.com>, Adrian Garcia Badaracco <1755071+adriangb@users.noreply.github.com>, Terrence Dorsey <terry@pydantic.dev>, David Montague <david@pydantic.dev>, Serge Matveenko <lig@countzero.co>, Marcelo Trylesinski <marcelotryle@gmail.com>, Sydney Runkle <sydneymarierunkle@gmail.com>, David Hewitt <mail@davidhewitt.io>\n",
            "License: \n",
            "Location: /usr/local/lib/python3.10/dist-packages\n",
            "Requires: annotated-types, pydantic-core, typing-extensions\n",
            "Required-by: chromadb, confection, fastapi, gradio, inflect, langchain, langchain-core, langsmith, lida, llmx, spacy, thinc\n"
          ]
        }
      ],
      "source": [
        "!pip show pydantic\n",
        "\n"
      ]
    },
    {
      "cell_type": "code",
      "execution_count": null,
      "metadata": {
        "colab": {
          "base_uri": "https://localhost:8080/"
        },
        "id": "WmAfEC4FTSkm",
        "outputId": "4bbf0424-fb68-4786-febd-219c6ed99cb0"
      },
      "outputs": [
        {
          "name": "stdout",
          "output_type": "stream",
          "text": [
            "Requirement already satisfied: gradio in /usr/local/lib/python3.10/dist-packages (4.13.0)\n",
            "Requirement already satisfied: aiofiles<24.0,>=22.0 in /usr/local/lib/python3.10/dist-packages (from gradio) (23.2.1)\n",
            "Requirement already satisfied: altair<6.0,>=4.2.0 in /usr/local/lib/python3.10/dist-packages (from gradio) (4.2.2)\n",
            "Requirement already satisfied: fastapi in /usr/local/lib/python3.10/dist-packages (from gradio) (0.108.0)\n",
            "Requirement already satisfied: ffmpy in /usr/local/lib/python3.10/dist-packages (from gradio) (0.3.1)\n",
            "Requirement already satisfied: gradio-client==0.8.0 in /usr/local/lib/python3.10/dist-packages (from gradio) (0.8.0)\n",
            "Requirement already satisfied: httpx in /usr/local/lib/python3.10/dist-packages (from gradio) (0.26.0)\n",
            "Requirement already satisfied: huggingface-hub>=0.19.3 in /usr/local/lib/python3.10/dist-packages (from gradio) (0.20.1)\n",
            "Requirement already satisfied: importlib-resources<7.0,>=1.3 in /usr/local/lib/python3.10/dist-packages (from gradio) (6.1.1)\n",
            "Requirement already satisfied: jinja2<4.0 in /usr/local/lib/python3.10/dist-packages (from gradio) (3.1.2)\n",
            "Requirement already satisfied: markupsafe~=2.0 in /usr/local/lib/python3.10/dist-packages (from gradio) (2.1.3)\n",
            "Requirement already satisfied: matplotlib~=3.0 in /usr/local/lib/python3.10/dist-packages (from gradio) (3.7.1)\n",
            "Requirement already satisfied: numpy~=1.0 in /usr/local/lib/python3.10/dist-packages (from gradio) (1.23.5)\n",
            "Requirement already satisfied: orjson~=3.0 in /usr/local/lib/python3.10/dist-packages (from gradio) (3.9.10)\n",
            "Requirement already satisfied: packaging in /usr/local/lib/python3.10/dist-packages (from gradio) (23.2)\n",
            "Requirement already satisfied: pandas<3.0,>=1.0 in /usr/local/lib/python3.10/dist-packages (from gradio) (1.5.3)\n",
            "Requirement already satisfied: pillow<11.0,>=8.0 in /usr/local/lib/python3.10/dist-packages (from gradio) (9.4.0)\n",
            "Requirement already satisfied: pydantic>=2.0 in /usr/local/lib/python3.10/dist-packages (from gradio) (2.5.3)\n",
            "Requirement already satisfied: pydub in /usr/local/lib/python3.10/dist-packages (from gradio) (0.25.1)\n",
            "Requirement already satisfied: python-multipart in /usr/local/lib/python3.10/dist-packages (from gradio) (0.0.6)\n",
            "Requirement already satisfied: pyyaml<7.0,>=5.0 in /usr/local/lib/python3.10/dist-packages (from gradio) (6.0.1)\n",
            "Requirement already satisfied: semantic-version~=2.0 in /usr/local/lib/python3.10/dist-packages (from gradio) (2.10.0)\n",
            "Requirement already satisfied: tomlkit==0.12.0 in /usr/local/lib/python3.10/dist-packages (from gradio) (0.12.0)\n",
            "Requirement already satisfied: typer[all]<1.0,>=0.9 in /usr/local/lib/python3.10/dist-packages (from gradio) (0.9.0)\n",
            "Requirement already satisfied: typing-extensions~=4.0 in /usr/local/lib/python3.10/dist-packages (from gradio) (4.9.0)\n",
            "Requirement already satisfied: uvicorn>=0.14.0 in /usr/local/lib/python3.10/dist-packages (from gradio) (0.25.0)\n",
            "Requirement already satisfied: fsspec in /usr/local/lib/python3.10/dist-packages (from gradio-client==0.8.0->gradio) (2023.6.0)\n",
            "Requirement already satisfied: websockets<12.0,>=10.0 in /usr/local/lib/python3.10/dist-packages (from gradio-client==0.8.0->gradio) (11.0.3)\n",
            "Requirement already satisfied: entrypoints in /usr/local/lib/python3.10/dist-packages (from altair<6.0,>=4.2.0->gradio) (0.4)\n",
            "Requirement already satisfied: jsonschema>=3.0 in /usr/local/lib/python3.10/dist-packages (from altair<6.0,>=4.2.0->gradio) (4.19.2)\n",
            "Requirement already satisfied: toolz in /usr/local/lib/python3.10/dist-packages (from altair<6.0,>=4.2.0->gradio) (0.12.0)\n",
            "Requirement already satisfied: filelock in /usr/local/lib/python3.10/dist-packages (from huggingface-hub>=0.19.3->gradio) (3.13.1)\n",
            "Requirement already satisfied: requests in /usr/local/lib/python3.10/dist-packages (from huggingface-hub>=0.19.3->gradio) (2.31.0)\n",
            "Requirement already satisfied: tqdm>=4.42.1 in /usr/local/lib/python3.10/dist-packages (from huggingface-hub>=0.19.3->gradio) (4.66.1)\n",
            "Requirement already satisfied: contourpy>=1.0.1 in /usr/local/lib/python3.10/dist-packages (from matplotlib~=3.0->gradio) (1.2.0)\n",
            "Requirement already satisfied: cycler>=0.10 in /usr/local/lib/python3.10/dist-packages (from matplotlib~=3.0->gradio) (0.12.1)\n",
            "Requirement already satisfied: fonttools>=4.22.0 in /usr/local/lib/python3.10/dist-packages (from matplotlib~=3.0->gradio) (4.47.0)\n",
            "Requirement already satisfied: kiwisolver>=1.0.1 in /usr/local/lib/python3.10/dist-packages (from matplotlib~=3.0->gradio) (1.4.5)\n",
            "Requirement already satisfied: pyparsing>=2.3.1 in /usr/local/lib/python3.10/dist-packages (from matplotlib~=3.0->gradio) (3.1.1)\n",
            "Requirement already satisfied: python-dateutil>=2.7 in /usr/local/lib/python3.10/dist-packages (from matplotlib~=3.0->gradio) (2.8.2)\n",
            "Requirement already satisfied: pytz>=2020.1 in /usr/local/lib/python3.10/dist-packages (from pandas<3.0,>=1.0->gradio) (2023.3.post1)\n",
            "Requirement already satisfied: annotated-types>=0.4.0 in /usr/local/lib/python3.10/dist-packages (from pydantic>=2.0->gradio) (0.6.0)\n",
            "Requirement already satisfied: pydantic-core==2.14.6 in /usr/local/lib/python3.10/dist-packages (from pydantic>=2.0->gradio) (2.14.6)\n",
            "Requirement already satisfied: click<9.0.0,>=7.1.1 in /usr/local/lib/python3.10/dist-packages (from typer[all]<1.0,>=0.9->gradio) (8.1.7)\n",
            "Requirement already satisfied: colorama<0.5.0,>=0.4.3 in /usr/local/lib/python3.10/dist-packages (from typer[all]<1.0,>=0.9->gradio) (0.4.6)\n",
            "Requirement already satisfied: shellingham<2.0.0,>=1.3.0 in /usr/local/lib/python3.10/dist-packages (from typer[all]<1.0,>=0.9->gradio) (1.5.4)\n",
            "Requirement already satisfied: rich<14.0.0,>=10.11.0 in /usr/local/lib/python3.10/dist-packages (from typer[all]<1.0,>=0.9->gradio) (13.7.0)\n",
            "Requirement already satisfied: h11>=0.8 in /usr/local/lib/python3.10/dist-packages (from uvicorn>=0.14.0->gradio) (0.14.0)\n",
            "Requirement already satisfied: starlette<0.33.0,>=0.29.0 in /usr/local/lib/python3.10/dist-packages (from fastapi->gradio) (0.32.0.post1)\n",
            "Requirement already satisfied: anyio in /usr/local/lib/python3.10/dist-packages (from httpx->gradio) (3.7.1)\n",
            "Requirement already satisfied: certifi in /usr/local/lib/python3.10/dist-packages (from httpx->gradio) (2023.11.17)\n",
            "Requirement already satisfied: httpcore==1.* in /usr/local/lib/python3.10/dist-packages (from httpx->gradio) (1.0.2)\n",
            "Requirement already satisfied: idna in /usr/local/lib/python3.10/dist-packages (from httpx->gradio) (3.6)\n",
            "Requirement already satisfied: sniffio in /usr/local/lib/python3.10/dist-packages (from httpx->gradio) (1.3.0)\n",
            "Requirement already satisfied: attrs>=22.2.0 in /usr/local/lib/python3.10/dist-packages (from jsonschema>=3.0->altair<6.0,>=4.2.0->gradio) (23.1.0)\n",
            "Requirement already satisfied: jsonschema-specifications>=2023.03.6 in /usr/local/lib/python3.10/dist-packages (from jsonschema>=3.0->altair<6.0,>=4.2.0->gradio) (2023.11.2)\n",
            "Requirement already satisfied: referencing>=0.28.4 in /usr/local/lib/python3.10/dist-packages (from jsonschema>=3.0->altair<6.0,>=4.2.0->gradio) (0.32.0)\n",
            "Requirement already satisfied: rpds-py>=0.7.1 in /usr/local/lib/python3.10/dist-packages (from jsonschema>=3.0->altair<6.0,>=4.2.0->gradio) (0.15.2)\n",
            "Requirement already satisfied: six>=1.5 in /usr/local/lib/python3.10/dist-packages (from python-dateutil>=2.7->matplotlib~=3.0->gradio) (1.16.0)\n",
            "Requirement already satisfied: markdown-it-py>=2.2.0 in /usr/local/lib/python3.10/dist-packages (from rich<14.0.0,>=10.11.0->typer[all]<1.0,>=0.9->gradio) (3.0.0)\n",
            "Requirement already satisfied: pygments<3.0.0,>=2.13.0 in /usr/local/lib/python3.10/dist-packages (from rich<14.0.0,>=10.11.0->typer[all]<1.0,>=0.9->gradio) (2.16.1)\n",
            "Requirement already satisfied: exceptiongroup in /usr/local/lib/python3.10/dist-packages (from anyio->httpx->gradio) (1.2.0)\n",
            "Requirement already satisfied: charset-normalizer<4,>=2 in /usr/local/lib/python3.10/dist-packages (from requests->huggingface-hub>=0.19.3->gradio) (3.3.2)\n",
            "Requirement already satisfied: urllib3<3,>=1.21.1 in /usr/local/lib/python3.10/dist-packages (from requests->huggingface-hub>=0.19.3->gradio) (1.26.18)\n",
            "Requirement already satisfied: mdurl~=0.1 in /usr/local/lib/python3.10/dist-packages (from markdown-it-py>=2.2.0->rich<14.0.0,>=10.11.0->typer[all]<1.0,>=0.9->gradio) (0.1.2)\n"
          ]
        }
      ],
      "source": [
        "!pip install --upgrade gradio\n"
      ]
    },
    {
      "cell_type": "markdown",
      "metadata": {
        "id": "FRkDOkRACqn0"
      },
      "source": [
        "To create a public link, set share=True in launch().\n",
        "Running on https://localhost:7860/\n",
        "\n",
        "라는 식의 문구가 나오면 위의 localhost로 시작하는 주소를 클릭하세요."
      ]
    },
    {
      "cell_type": "code",
      "execution_count": null,
      "metadata": {
        "colab": {
          "base_uri": "https://localhost:8080/"
        },
        "id": "VDMek-h97_zd",
        "outputId": "33706293-d9ba-4b33-dc09-bf686c9569bd"
      },
      "outputs": [
        {
          "name": "stdout",
          "output_type": "stream",
          "text": [
            "Requirement already satisfied: gradio==3.48.0 in /usr/local/lib/python3.10/dist-packages (3.48.0)\n",
            "Requirement already satisfied: aiofiles<24.0,>=22.0 in /usr/local/lib/python3.10/dist-packages (from gradio==3.48.0) (23.2.1)\n",
            "Requirement already satisfied: altair<6.0,>=4.2.0 in /usr/local/lib/python3.10/dist-packages (from gradio==3.48.0) (4.2.2)\n",
            "Requirement already satisfied: fastapi in /usr/local/lib/python3.10/dist-packages (from gradio==3.48.0) (0.108.0)\n",
            "Requirement already satisfied: ffmpy in /usr/local/lib/python3.10/dist-packages (from gradio==3.48.0) (0.3.1)\n",
            "Requirement already satisfied: gradio-client==0.6.1 in /usr/local/lib/python3.10/dist-packages (from gradio==3.48.0) (0.6.1)\n",
            "Requirement already satisfied: httpx in /usr/local/lib/python3.10/dist-packages (from gradio==3.48.0) (0.26.0)\n",
            "Requirement already satisfied: huggingface-hub>=0.14.0 in /usr/local/lib/python3.10/dist-packages (from gradio==3.48.0) (0.20.1)\n",
            "Requirement already satisfied: importlib-resources<7.0,>=1.3 in /usr/local/lib/python3.10/dist-packages (from gradio==3.48.0) (6.1.1)\n",
            "Requirement already satisfied: jinja2<4.0 in /usr/local/lib/python3.10/dist-packages (from gradio==3.48.0) (3.1.2)\n",
            "Requirement already satisfied: markupsafe~=2.0 in /usr/local/lib/python3.10/dist-packages (from gradio==3.48.0) (2.1.3)\n",
            "Requirement already satisfied: matplotlib~=3.0 in /usr/local/lib/python3.10/dist-packages (from gradio==3.48.0) (3.7.1)\n",
            "Requirement already satisfied: numpy~=1.0 in /usr/local/lib/python3.10/dist-packages (from gradio==3.48.0) (1.23.5)\n",
            "Requirement already satisfied: orjson~=3.0 in /usr/local/lib/python3.10/dist-packages (from gradio==3.48.0) (3.9.10)\n",
            "Requirement already satisfied: packaging in /usr/local/lib/python3.10/dist-packages (from gradio==3.48.0) (23.2)\n",
            "Requirement already satisfied: pandas<3.0,>=1.0 in /usr/local/lib/python3.10/dist-packages (from gradio==3.48.0) (1.5.3)\n",
            "Requirement already satisfied: pillow<11.0,>=8.0 in /usr/local/lib/python3.10/dist-packages (from gradio==3.48.0) (9.4.0)\n",
            "Requirement already satisfied: pydantic!=1.8,!=1.8.1,!=2.0.0,!=2.0.1,<3.0.0,>=1.7.4 in /usr/local/lib/python3.10/dist-packages (from gradio==3.48.0) (2.5.3)\n",
            "Requirement already satisfied: pydub in /usr/local/lib/python3.10/dist-packages (from gradio==3.48.0) (0.25.1)\n",
            "Requirement already satisfied: python-multipart in /usr/local/lib/python3.10/dist-packages (from gradio==3.48.0) (0.0.6)\n",
            "Requirement already satisfied: pyyaml<7.0,>=5.0 in /usr/local/lib/python3.10/dist-packages (from gradio==3.48.0) (6.0.1)\n",
            "Requirement already satisfied: requests~=2.0 in /usr/local/lib/python3.10/dist-packages (from gradio==3.48.0) (2.31.0)\n",
            "Requirement already satisfied: semantic-version~=2.0 in /usr/local/lib/python3.10/dist-packages (from gradio==3.48.0) (2.10.0)\n",
            "Requirement already satisfied: typing-extensions~=4.0 in /usr/local/lib/python3.10/dist-packages (from gradio==3.48.0) (4.9.0)\n",
            "Requirement already satisfied: uvicorn>=0.14.0 in /usr/local/lib/python3.10/dist-packages (from gradio==3.48.0) (0.25.0)\n",
            "Requirement already satisfied: websockets<12.0,>=10.0 in /usr/local/lib/python3.10/dist-packages (from gradio==3.48.0) (11.0.3)\n",
            "Requirement already satisfied: fsspec in /usr/local/lib/python3.10/dist-packages (from gradio-client==0.6.1->gradio==3.48.0) (2023.6.0)\n",
            "Requirement already satisfied: entrypoints in /usr/local/lib/python3.10/dist-packages (from altair<6.0,>=4.2.0->gradio==3.48.0) (0.4)\n",
            "Requirement already satisfied: jsonschema>=3.0 in /usr/local/lib/python3.10/dist-packages (from altair<6.0,>=4.2.0->gradio==3.48.0) (4.19.2)\n",
            "Requirement already satisfied: toolz in /usr/local/lib/python3.10/dist-packages (from altair<6.0,>=4.2.0->gradio==3.48.0) (0.12.0)\n",
            "Requirement already satisfied: filelock in /usr/local/lib/python3.10/dist-packages (from huggingface-hub>=0.14.0->gradio==3.48.0) (3.13.1)\n",
            "Requirement already satisfied: tqdm>=4.42.1 in /usr/local/lib/python3.10/dist-packages (from huggingface-hub>=0.14.0->gradio==3.48.0) (4.66.1)\n",
            "Requirement already satisfied: contourpy>=1.0.1 in /usr/local/lib/python3.10/dist-packages (from matplotlib~=3.0->gradio==3.48.0) (1.2.0)\n",
            "Requirement already satisfied: cycler>=0.10 in /usr/local/lib/python3.10/dist-packages (from matplotlib~=3.0->gradio==3.48.0) (0.12.1)\n",
            "Requirement already satisfied: fonttools>=4.22.0 in /usr/local/lib/python3.10/dist-packages (from matplotlib~=3.0->gradio==3.48.0) (4.47.0)\n",
            "Requirement already satisfied: kiwisolver>=1.0.1 in /usr/local/lib/python3.10/dist-packages (from matplotlib~=3.0->gradio==3.48.0) (1.4.5)\n",
            "Requirement already satisfied: pyparsing>=2.3.1 in /usr/local/lib/python3.10/dist-packages (from matplotlib~=3.0->gradio==3.48.0) (3.1.1)\n",
            "Requirement already satisfied: python-dateutil>=2.7 in /usr/local/lib/python3.10/dist-packages (from matplotlib~=3.0->gradio==3.48.0) (2.8.2)\n",
            "Requirement already satisfied: pytz>=2020.1 in /usr/local/lib/python3.10/dist-packages (from pandas<3.0,>=1.0->gradio==3.48.0) (2023.3.post1)\n",
            "Requirement already satisfied: annotated-types>=0.4.0 in /usr/local/lib/python3.10/dist-packages (from pydantic!=1.8,!=1.8.1,!=2.0.0,!=2.0.1,<3.0.0,>=1.7.4->gradio==3.48.0) (0.6.0)\n",
            "Requirement already satisfied: pydantic-core==2.14.6 in /usr/local/lib/python3.10/dist-packages (from pydantic!=1.8,!=1.8.1,!=2.0.0,!=2.0.1,<3.0.0,>=1.7.4->gradio==3.48.0) (2.14.6)\n",
            "Requirement already satisfied: charset-normalizer<4,>=2 in /usr/local/lib/python3.10/dist-packages (from requests~=2.0->gradio==3.48.0) (3.3.2)\n",
            "Requirement already satisfied: idna<4,>=2.5 in /usr/local/lib/python3.10/dist-packages (from requests~=2.0->gradio==3.48.0) (3.6)\n",
            "Requirement already satisfied: urllib3<3,>=1.21.1 in /usr/local/lib/python3.10/dist-packages (from requests~=2.0->gradio==3.48.0) (1.26.18)\n",
            "Requirement already satisfied: certifi>=2017.4.17 in /usr/local/lib/python3.10/dist-packages (from requests~=2.0->gradio==3.48.0) (2023.11.17)\n",
            "Requirement already satisfied: click>=7.0 in /usr/local/lib/python3.10/dist-packages (from uvicorn>=0.14.0->gradio==3.48.0) (8.1.7)\n",
            "Requirement already satisfied: h11>=0.8 in /usr/local/lib/python3.10/dist-packages (from uvicorn>=0.14.0->gradio==3.48.0) (0.14.0)\n",
            "Requirement already satisfied: starlette<0.33.0,>=0.29.0 in /usr/local/lib/python3.10/dist-packages (from fastapi->gradio==3.48.0) (0.32.0.post1)\n",
            "Requirement already satisfied: anyio in /usr/local/lib/python3.10/dist-packages (from httpx->gradio==3.48.0) (3.7.1)\n",
            "Requirement already satisfied: httpcore==1.* in /usr/local/lib/python3.10/dist-packages (from httpx->gradio==3.48.0) (1.0.2)\n",
            "Requirement already satisfied: sniffio in /usr/local/lib/python3.10/dist-packages (from httpx->gradio==3.48.0) (1.3.0)\n",
            "Requirement already satisfied: attrs>=22.2.0 in /usr/local/lib/python3.10/dist-packages (from jsonschema>=3.0->altair<6.0,>=4.2.0->gradio==3.48.0) (23.1.0)\n",
            "Requirement already satisfied: jsonschema-specifications>=2023.03.6 in /usr/local/lib/python3.10/dist-packages (from jsonschema>=3.0->altair<6.0,>=4.2.0->gradio==3.48.0) (2023.11.2)\n",
            "Requirement already satisfied: referencing>=0.28.4 in /usr/local/lib/python3.10/dist-packages (from jsonschema>=3.0->altair<6.0,>=4.2.0->gradio==3.48.0) (0.32.0)\n",
            "Requirement already satisfied: rpds-py>=0.7.1 in /usr/local/lib/python3.10/dist-packages (from jsonschema>=3.0->altair<6.0,>=4.2.0->gradio==3.48.0) (0.15.2)\n",
            "Requirement already satisfied: six>=1.5 in /usr/local/lib/python3.10/dist-packages (from python-dateutil>=2.7->matplotlib~=3.0->gradio==3.48.0) (1.16.0)\n",
            "Requirement already satisfied: exceptiongroup in /usr/local/lib/python3.10/dist-packages (from anyio->httpx->gradio==3.48.0) (1.2.0)\n"
          ]
        }
      ],
      "source": [
        "!pip install gradio==3.48.0 #주의 계속 import에러 떠서 해당 버전으로 하니 해결됨."
      ]
    },
    {
      "cell_type": "code",
      "execution_count": null,
      "metadata": {
        "colab": {
          "background_save": true,
          "base_uri": "https://localhost:8080/",
          "height": 646
        },
        "id": "KhC4DyFYCC9M",
        "outputId": "30df1b30-301c-4ce7-b1a5-1515b1aba7dd"
      },
      "outputs": [
        {
          "name": "stdout",
          "output_type": "stream",
          "text": [
            "Setting queue=True in a Colab notebook requires sharing enabled. Setting `share=True` (you can turn this off by setting `share=False` in `launch()` explicitly).\n",
            "\n",
            "Colab notebook detected. This cell will run indefinitely so that you can see errors and logs. To turn off, set debug=False in launch().\n",
            "Running on public URL: https://5cc9c6c55fad79d399.gradio.live\n",
            "\n",
            "This share link expires in 72 hours. For free permanent hosting and GPU upgrades, run `gradio deploy` from Terminal to deploy to Spaces (https://huggingface.co/spaces)\n"
          ]
        },
        {
          "data": {
            "text/html": [
              "<div><iframe src=\"https://5cc9c6c55fad79d399.gradio.live\" width=\"100%\" height=\"500\" allow=\"autoplay; camera; microphone; clipboard-read; clipboard-write;\" frameborder=\"0\" allowfullscreen></iframe></div>"
            ],
            "text/plain": [
              "<IPython.core.display.HTML object>"
            ]
          },
          "metadata": {},
          "output_type": "display_data"
        }
      ],
      "source": [
        "import gradio as gr\n",
        "\n",
        "# 인터페이스를 생성.\n",
        "with gr.Blocks() as demo:\n",
        "    chatbot = gr.Chatbot(label=\"청년정책챗봇\") # 청년정책챗봇 레이블을 좌측 상단에 구성\n",
        "    msg = gr.Textbox(label=\"질문해주세요!\")  # 하단의 채팅창의 레이블\n",
        "    clear = gr.Button(\"대화 초기화\")  # 대화 초기화 버튼\n",
        "\n",
        "    # 챗봇의 답변을 처리하는 함수\n",
        "    def respond(message, chat_history):\n",
        "      result = qa_chain(message)\n",
        "      bot_message = result['result']\n",
        "      bot_message += ' # sources :'\n",
        "\n",
        "      # 답변의 출처를 표기\n",
        "      for i, doc in enumerate(result['source_documents']):\n",
        "          bot_message += '[' + str(i+1) + '] ' + doc.metadata['source'] + ' '\n",
        "\n",
        "      # 채팅 기록에 사용자의 메시지와 봇의 응답을 추가.\n",
        "      chat_history.append((message, bot_message))\n",
        "      return \"\", chat_history\n",
        "\n",
        "    # 사용자의 입력을 제출(submit)하면 respond 함수가 호출.\n",
        "    msg.submit(respond, [msg, chatbot], [msg, chatbot])\n",
        "\n",
        "    # '초기화' 버튼을 클릭하면 채팅 기록을 초기화.\n",
        "    clear.click(lambda: None, None, chatbot, queue=False)\n",
        "\n",
        "# 인터페이스 실행.\n",
        "demo.launch(debug=True)"
      ]
    },
    {
      "cell_type": "code",
      "source": [],
      "metadata": {
        "id": "5reTcxiSX1kV"
      },
      "execution_count": null,
      "outputs": []
    },
    {
      "cell_type": "code",
      "execution_count": null,
      "metadata": {
        "id": "lcnCBp_PR1xI"
      },
      "outputs": [],
      "source": []
    }
  ],
  "metadata": {
    "colab": {
      "provenance": []
    },
    "kernelspec": {
      "display_name": "Python 3",
      "name": "python3"
    },
    "language_info": {
      "name": "python"
    }
  },
  "nbformat": 4,
  "nbformat_minor": 0
}